{
  "nbformat": 4,
  "nbformat_minor": 0,
  "metadata": {
    "colab": {
      "provenance": [],
      "gpuType": "T4"
    },
    "kernelspec": {
      "name": "python3",
      "display_name": "Python 3"
    },
    "language_info": {
      "name": "python"
    },
    "accelerator": "GPU"
  },
  "cells": [
    {
      "cell_type": "markdown",
      "source": [
        "#Course: Computer Networks - 1\n",
        "#Project: Network Attack Prediction            \n",
        "#Name: Ajinkya Vikas Pophale\n",
        "#Batch: 131"
      ],
      "metadata": {
        "id": "FcaK0foMPOj4"
      }
    },
    {
      "cell_type": "markdown",
      "source": [
        "#Import all the required Libraries"
      ],
      "metadata": {
        "id": "pBIGTEQiSK1r"
      }
    },
    {
      "cell_type": "code",
      "execution_count": null,
      "metadata": {
        "id": "ubn_Wdf4HyzZ"
      },
      "outputs": [],
      "source": [
        "import pandas as pd\n",
        "import numpy as np\n",
        "from sklearn.model_selection import train_test_split\n",
        "from sklearn.preprocessing import LabelEncoder, StandardScaler,OneHotEncoder\n",
        "from sklearn.tree import DecisionTreeClassifier\n",
        "from sklearn.linear_model import LogisticRegression\n",
        "from sklearn.neighbors import KNeighborsClassifier\n",
        "from sklearn.model_selection import StratifiedKFold\n",
        "from sklearn.metrics import accuracy_score, recall_score, precision_score,f1_score\n",
        "from google.colab import files\n",
        "from matplotlib import pyplot as plt\n",
        "import seaborn as sns\n",
        "import warnings\n",
        "warnings.filterwarnings(\"ignore\")"
      ]
    },
    {
      "cell_type": "markdown",
      "metadata": {
        "id": "VIAGI5xtI1B3"
      },
      "source": [
        "# Load Dataset\n"
      ]
    },
    {
      "cell_type": "code",
      "execution_count": null,
      "metadata": {
        "id": "oUMd-8bBIQoG"
      },
      "outputs": [],
      "source": [
        "df = pd.read_csv(\"train_rem.csv\")"
      ]
    },
    {
      "cell_type": "markdown",
      "metadata": {
        "id": "DyEKd-EEJ47p"
      },
      "source": [
        "# **Basic EDA**"
      ]
    },
    {
      "cell_type": "code",
      "execution_count": null,
      "metadata": {
        "colab": {
          "base_uri": "https://localhost:8080/",
          "height": 300
        },
        "id": "CA5SIP8JJ2Vp",
        "outputId": "d2c2b26c-346d-43fa-8867-4486348cf15b"
      },
      "outputs": [
        {
          "output_type": "execute_result",
          "data": {
            "text/plain": [
              "   Id  duration protocol_type service flag  src_bytes  dst_bytes  hot  \\\n",
              "0   1         0           tcp   other  REJ          0          0    0   \n",
              "1   2         0           tcp    http   SF      54540       8314    2   \n",
              "2   3         0           tcp   other  REJ          0          0    0   \n",
              "3   4         0          icmp   eco_i   SF          8          0    0   \n",
              "4   5         0           tcp   other  REJ          0          0    0   \n",
              "\n",
              "   logged_in  num_compromised  ...  dst_host_srv_count  \\\n",
              "0          0                0  ...                   1   \n",
              "1          1                1  ...                 178   \n",
              "2          0                0  ...                   1   \n",
              "3          0                0  ...                  86   \n",
              "4          0                0  ...                   1   \n",
              "\n",
              "   dst_host_same_srv_rate  dst_host_diff_srv_rate  \\\n",
              "0                     0.0                     1.0   \n",
              "1                     1.0                     0.0   \n",
              "2                     0.0                     1.0   \n",
              "3                     1.0                     0.0   \n",
              "4                     0.0                     1.0   \n",
              "\n",
              "   dst_host_same_src_port_rate  dst_host_srv_diff_host_rate  \\\n",
              "0                         0.00                         0.00   \n",
              "1                         0.01                         0.00   \n",
              "2                         0.00                         0.00   \n",
              "3                         1.00                         0.51   \n",
              "4                         0.00                         0.00   \n",
              "\n",
              "   dst_host_serror_rate  dst_host_srv_serror_rate  dst_host_rerror_rate  \\\n",
              "0                  0.00                       0.0                  1.00   \n",
              "1                  0.00                       0.0                  0.01   \n",
              "2                  0.00                       0.0                  1.00   \n",
              "3                  0.00                       0.0                  0.00   \n",
              "4                  0.07                       0.0                  0.93   \n",
              "\n",
              "   dst_host_srv_rerror_rate  type_of_attack  \n",
              "0                      1.00          satan.  \n",
              "1                      0.01           back.  \n",
              "2                      1.00          satan.  \n",
              "3                      0.00        ipsweep.  \n",
              "4                      1.00          satan.  \n",
              "\n",
              "[5 rows x 33 columns]"
            ],
            "text/html": [
              "\n",
              "\n",
              "  <div id=\"df-c11de7ea-26de-4cfe-a3fb-c75d21a27978\">\n",
              "    <div class=\"colab-df-container\">\n",
              "      <div>\n",
              "<style scoped>\n",
              "    .dataframe tbody tr th:only-of-type {\n",
              "        vertical-align: middle;\n",
              "    }\n",
              "\n",
              "    .dataframe tbody tr th {\n",
              "        vertical-align: top;\n",
              "    }\n",
              "\n",
              "    .dataframe thead th {\n",
              "        text-align: right;\n",
              "    }\n",
              "</style>\n",
              "<table border=\"1\" class=\"dataframe\">\n",
              "  <thead>\n",
              "    <tr style=\"text-align: right;\">\n",
              "      <th></th>\n",
              "      <th>Id</th>\n",
              "      <th>duration</th>\n",
              "      <th>protocol_type</th>\n",
              "      <th>service</th>\n",
              "      <th>flag</th>\n",
              "      <th>src_bytes</th>\n",
              "      <th>dst_bytes</th>\n",
              "      <th>hot</th>\n",
              "      <th>logged_in</th>\n",
              "      <th>num_compromised</th>\n",
              "      <th>...</th>\n",
              "      <th>dst_host_srv_count</th>\n",
              "      <th>dst_host_same_srv_rate</th>\n",
              "      <th>dst_host_diff_srv_rate</th>\n",
              "      <th>dst_host_same_src_port_rate</th>\n",
              "      <th>dst_host_srv_diff_host_rate</th>\n",
              "      <th>dst_host_serror_rate</th>\n",
              "      <th>dst_host_srv_serror_rate</th>\n",
              "      <th>dst_host_rerror_rate</th>\n",
              "      <th>dst_host_srv_rerror_rate</th>\n",
              "      <th>type_of_attack</th>\n",
              "    </tr>\n",
              "  </thead>\n",
              "  <tbody>\n",
              "    <tr>\n",
              "      <th>0</th>\n",
              "      <td>1</td>\n",
              "      <td>0</td>\n",
              "      <td>tcp</td>\n",
              "      <td>other</td>\n",
              "      <td>REJ</td>\n",
              "      <td>0</td>\n",
              "      <td>0</td>\n",
              "      <td>0</td>\n",
              "      <td>0</td>\n",
              "      <td>0</td>\n",
              "      <td>...</td>\n",
              "      <td>1</td>\n",
              "      <td>0.0</td>\n",
              "      <td>1.0</td>\n",
              "      <td>0.00</td>\n",
              "      <td>0.00</td>\n",
              "      <td>0.00</td>\n",
              "      <td>0.0</td>\n",
              "      <td>1.00</td>\n",
              "      <td>1.00</td>\n",
              "      <td>satan.</td>\n",
              "    </tr>\n",
              "    <tr>\n",
              "      <th>1</th>\n",
              "      <td>2</td>\n",
              "      <td>0</td>\n",
              "      <td>tcp</td>\n",
              "      <td>http</td>\n",
              "      <td>SF</td>\n",
              "      <td>54540</td>\n",
              "      <td>8314</td>\n",
              "      <td>2</td>\n",
              "      <td>1</td>\n",
              "      <td>1</td>\n",
              "      <td>...</td>\n",
              "      <td>178</td>\n",
              "      <td>1.0</td>\n",
              "      <td>0.0</td>\n",
              "      <td>0.01</td>\n",
              "      <td>0.00</td>\n",
              "      <td>0.00</td>\n",
              "      <td>0.0</td>\n",
              "      <td>0.01</td>\n",
              "      <td>0.01</td>\n",
              "      <td>back.</td>\n",
              "    </tr>\n",
              "    <tr>\n",
              "      <th>2</th>\n",
              "      <td>3</td>\n",
              "      <td>0</td>\n",
              "      <td>tcp</td>\n",
              "      <td>other</td>\n",
              "      <td>REJ</td>\n",
              "      <td>0</td>\n",
              "      <td>0</td>\n",
              "      <td>0</td>\n",
              "      <td>0</td>\n",
              "      <td>0</td>\n",
              "      <td>...</td>\n",
              "      <td>1</td>\n",
              "      <td>0.0</td>\n",
              "      <td>1.0</td>\n",
              "      <td>0.00</td>\n",
              "      <td>0.00</td>\n",
              "      <td>0.00</td>\n",
              "      <td>0.0</td>\n",
              "      <td>1.00</td>\n",
              "      <td>1.00</td>\n",
              "      <td>satan.</td>\n",
              "    </tr>\n",
              "    <tr>\n",
              "      <th>3</th>\n",
              "      <td>4</td>\n",
              "      <td>0</td>\n",
              "      <td>icmp</td>\n",
              "      <td>eco_i</td>\n",
              "      <td>SF</td>\n",
              "      <td>8</td>\n",
              "      <td>0</td>\n",
              "      <td>0</td>\n",
              "      <td>0</td>\n",
              "      <td>0</td>\n",
              "      <td>...</td>\n",
              "      <td>86</td>\n",
              "      <td>1.0</td>\n",
              "      <td>0.0</td>\n",
              "      <td>1.00</td>\n",
              "      <td>0.51</td>\n",
              "      <td>0.00</td>\n",
              "      <td>0.0</td>\n",
              "      <td>0.00</td>\n",
              "      <td>0.00</td>\n",
              "      <td>ipsweep.</td>\n",
              "    </tr>\n",
              "    <tr>\n",
              "      <th>4</th>\n",
              "      <td>5</td>\n",
              "      <td>0</td>\n",
              "      <td>tcp</td>\n",
              "      <td>other</td>\n",
              "      <td>REJ</td>\n",
              "      <td>0</td>\n",
              "      <td>0</td>\n",
              "      <td>0</td>\n",
              "      <td>0</td>\n",
              "      <td>0</td>\n",
              "      <td>...</td>\n",
              "      <td>1</td>\n",
              "      <td>0.0</td>\n",
              "      <td>1.0</td>\n",
              "      <td>0.00</td>\n",
              "      <td>0.00</td>\n",
              "      <td>0.07</td>\n",
              "      <td>0.0</td>\n",
              "      <td>0.93</td>\n",
              "      <td>1.00</td>\n",
              "      <td>satan.</td>\n",
              "    </tr>\n",
              "  </tbody>\n",
              "</table>\n",
              "<p>5 rows × 33 columns</p>\n",
              "</div>\n",
              "      <button class=\"colab-df-convert\" onclick=\"convertToInteractive('df-c11de7ea-26de-4cfe-a3fb-c75d21a27978')\"\n",
              "              title=\"Convert this dataframe to an interactive table.\"\n",
              "              style=\"display:none;\">\n",
              "\n",
              "  <svg xmlns=\"http://www.w3.org/2000/svg\" height=\"24px\"viewBox=\"0 0 24 24\"\n",
              "       width=\"24px\">\n",
              "    <path d=\"M0 0h24v24H0V0z\" fill=\"none\"/>\n",
              "    <path d=\"M18.56 5.44l.94 2.06.94-2.06 2.06-.94-2.06-.94-.94-2.06-.94 2.06-2.06.94zm-11 1L8.5 8.5l.94-2.06 2.06-.94-2.06-.94L8.5 2.5l-.94 2.06-2.06.94zm10 10l.94 2.06.94-2.06 2.06-.94-2.06-.94-.94-2.06-.94 2.06-2.06.94z\"/><path d=\"M17.41 7.96l-1.37-1.37c-.4-.4-.92-.59-1.43-.59-.52 0-1.04.2-1.43.59L10.3 9.45l-7.72 7.72c-.78.78-.78 2.05 0 2.83L4 21.41c.39.39.9.59 1.41.59.51 0 1.02-.2 1.41-.59l7.78-7.78 2.81-2.81c.8-.78.8-2.07 0-2.86zM5.41 20L4 18.59l7.72-7.72 1.47 1.35L5.41 20z\"/>\n",
              "  </svg>\n",
              "      </button>\n",
              "\n",
              "\n",
              "\n",
              "    <div id=\"df-b24f14ac-45be-49ae-9ae2-2c1a10ee4a5c\">\n",
              "      <button class=\"colab-df-quickchart\" onclick=\"quickchart('df-b24f14ac-45be-49ae-9ae2-2c1a10ee4a5c')\"\n",
              "              title=\"Suggest charts.\"\n",
              "              style=\"display:none;\">\n",
              "\n",
              "<svg xmlns=\"http://www.w3.org/2000/svg\" height=\"24px\"viewBox=\"0 0 24 24\"\n",
              "     width=\"24px\">\n",
              "    <g>\n",
              "        <path d=\"M19 3H5c-1.1 0-2 .9-2 2v14c0 1.1.9 2 2 2h14c1.1 0 2-.9 2-2V5c0-1.1-.9-2-2-2zM9 17H7v-7h2v7zm4 0h-2V7h2v10zm4 0h-2v-4h2v4z\"/>\n",
              "    </g>\n",
              "</svg>\n",
              "      </button>\n",
              "    </div>\n",
              "\n",
              "<style>\n",
              "  .colab-df-quickchart {\n",
              "    background-color: #E8F0FE;\n",
              "    border: none;\n",
              "    border-radius: 50%;\n",
              "    cursor: pointer;\n",
              "    display: none;\n",
              "    fill: #1967D2;\n",
              "    height: 32px;\n",
              "    padding: 0 0 0 0;\n",
              "    width: 32px;\n",
              "  }\n",
              "\n",
              "  .colab-df-quickchart:hover {\n",
              "    background-color: #E2EBFA;\n",
              "    box-shadow: 0px 1px 2px rgba(60, 64, 67, 0.3), 0px 1px 3px 1px rgba(60, 64, 67, 0.15);\n",
              "    fill: #174EA6;\n",
              "  }\n",
              "\n",
              "  [theme=dark] .colab-df-quickchart {\n",
              "    background-color: #3B4455;\n",
              "    fill: #D2E3FC;\n",
              "  }\n",
              "\n",
              "  [theme=dark] .colab-df-quickchart:hover {\n",
              "    background-color: #434B5C;\n",
              "    box-shadow: 0px 1px 3px 1px rgba(0, 0, 0, 0.15);\n",
              "    filter: drop-shadow(0px 1px 2px rgba(0, 0, 0, 0.3));\n",
              "    fill: #FFFFFF;\n",
              "  }\n",
              "</style>\n",
              "\n",
              "    <script>\n",
              "      async function quickchart(key) {\n",
              "        const containerElement = document.querySelector('#' + key);\n",
              "        const charts = await google.colab.kernel.invokeFunction(\n",
              "            'suggestCharts', [key], {});\n",
              "      }\n",
              "    </script>\n",
              "\n",
              "      <script>\n",
              "\n",
              "function displayQuickchartButton(domScope) {\n",
              "  let quickchartButtonEl =\n",
              "    domScope.querySelector('#df-b24f14ac-45be-49ae-9ae2-2c1a10ee4a5c button.colab-df-quickchart');\n",
              "  quickchartButtonEl.style.display =\n",
              "    google.colab.kernel.accessAllowed ? 'block' : 'none';\n",
              "}\n",
              "\n",
              "        displayQuickchartButton(document);\n",
              "      </script>\n",
              "      <style>\n",
              "    .colab-df-container {\n",
              "      display:flex;\n",
              "      flex-wrap:wrap;\n",
              "      gap: 12px;\n",
              "    }\n",
              "\n",
              "    .colab-df-convert {\n",
              "      background-color: #E8F0FE;\n",
              "      border: none;\n",
              "      border-radius: 50%;\n",
              "      cursor: pointer;\n",
              "      display: none;\n",
              "      fill: #1967D2;\n",
              "      height: 32px;\n",
              "      padding: 0 0 0 0;\n",
              "      width: 32px;\n",
              "    }\n",
              "\n",
              "    .colab-df-convert:hover {\n",
              "      background-color: #E2EBFA;\n",
              "      box-shadow: 0px 1px 2px rgba(60, 64, 67, 0.3), 0px 1px 3px 1px rgba(60, 64, 67, 0.15);\n",
              "      fill: #174EA6;\n",
              "    }\n",
              "\n",
              "    [theme=dark] .colab-df-convert {\n",
              "      background-color: #3B4455;\n",
              "      fill: #D2E3FC;\n",
              "    }\n",
              "\n",
              "    [theme=dark] .colab-df-convert:hover {\n",
              "      background-color: #434B5C;\n",
              "      box-shadow: 0px 1px 3px 1px rgba(0, 0, 0, 0.15);\n",
              "      filter: drop-shadow(0px 1px 2px rgba(0, 0, 0, 0.3));\n",
              "      fill: #FFFFFF;\n",
              "    }\n",
              "  </style>\n",
              "\n",
              "      <script>\n",
              "        const buttonEl =\n",
              "          document.querySelector('#df-c11de7ea-26de-4cfe-a3fb-c75d21a27978 button.colab-df-convert');\n",
              "        buttonEl.style.display =\n",
              "          google.colab.kernel.accessAllowed ? 'block' : 'none';\n",
              "\n",
              "        async function convertToInteractive(key) {\n",
              "          const element = document.querySelector('#df-c11de7ea-26de-4cfe-a3fb-c75d21a27978');\n",
              "          const dataTable =\n",
              "            await google.colab.kernel.invokeFunction('convertToInteractive',\n",
              "                                                     [key], {});\n",
              "          if (!dataTable) return;\n",
              "\n",
              "          const docLinkHtml = 'Like what you see? Visit the ' +\n",
              "            '<a target=\"_blank\" href=https://colab.research.google.com/notebooks/data_table.ipynb>data table notebook</a>'\n",
              "            + ' to learn more about interactive tables.';\n",
              "          element.innerHTML = '';\n",
              "          dataTable['output_type'] = 'display_data';\n",
              "          await google.colab.output.renderOutput(dataTable, element);\n",
              "          const docLink = document.createElement('div');\n",
              "          docLink.innerHTML = docLinkHtml;\n",
              "          element.appendChild(docLink);\n",
              "        }\n",
              "      </script>\n",
              "    </div>\n",
              "  </div>\n"
            ]
          },
          "metadata": {},
          "execution_count": 3
        }
      ],
      "source": [
        "df.head()"
      ]
    },
    {
      "cell_type": "code",
      "execution_count": null,
      "metadata": {
        "colab": {
          "base_uri": "https://localhost:8080/"
        },
        "id": "_qNCfd73Jp7E",
        "outputId": "d5a4a365-87df-415f-e3fe-51021070a1b7"
      },
      "outputs": [
        {
          "output_type": "execute_result",
          "data": {
            "text/plain": [
              "(12989, 33)"
            ]
          },
          "metadata": {},
          "execution_count": 4
        }
      ],
      "source": [
        "df.shape"
      ]
    },
    {
      "cell_type": "code",
      "execution_count": null,
      "metadata": {
        "colab": {
          "base_uri": "https://localhost:8080/",
          "height": 394
        },
        "id": "lMeTIbG3JmP6",
        "outputId": "86de71dd-302b-4e25-8a31-27d69e44e24c"
      },
      "outputs": [
        {
          "output_type": "execute_result",
          "data": {
            "text/plain": [
              "                 Id      duration     src_bytes      dst_bytes           hot  \\\n",
              "count  12989.000000  12989.000000  12989.000000   12989.000000  12989.000000   \n",
              "mean    6495.000000      0.157056   5865.168065    1097.630072      0.212795   \n",
              "std     3749.745658      1.817548  16851.470935    4153.357121      0.614088   \n",
              "min        1.000000      0.000000      0.000000       0.000000      0.000000   \n",
              "25%     3248.000000      0.000000      0.000000       0.000000      0.000000   \n",
              "50%     6495.000000      0.000000      8.000000       0.000000      0.000000   \n",
              "75%     9742.000000      0.000000      8.000000       0.000000      0.000000   \n",
              "max    12989.000000     78.000000  54540.000000  238768.000000      2.000000   \n",
              "\n",
              "          logged_in  num_compromised      num_root    num_shells  \\\n",
              "count  12989.000000     12989.000000  12989.000000  12989.000000   \n",
              "mean       0.153668         0.104935      0.000154      0.000077   \n",
              "std        0.360645         0.306481      0.012408      0.008774   \n",
              "min        0.000000         0.000000      0.000000      0.000000   \n",
              "25%        0.000000         0.000000      0.000000      0.000000   \n",
              "50%        0.000000         0.000000      0.000000      0.000000   \n",
              "75%        0.000000         0.000000      0.000000      0.000000   \n",
              "max        1.000000         1.000000      1.000000      1.000000   \n",
              "\n",
              "       num_access_files  ...  dst_host_count  dst_host_srv_count  \\\n",
              "count      12989.000000  ...    12989.000000        12989.000000   \n",
              "mean           0.000077  ...      139.733929          111.833397   \n",
              "std            0.008774  ...      121.745589          120.355996   \n",
              "min            0.000000  ...        0.000000            0.000000   \n",
              "25%            0.000000  ...        2.000000            1.000000   \n",
              "50%            0.000000  ...      255.000000           22.000000   \n",
              "75%            0.000000  ...      255.000000          255.000000   \n",
              "max            1.000000  ...      255.000000          255.000000   \n",
              "\n",
              "       dst_host_same_srv_rate  dst_host_diff_srv_rate  \\\n",
              "count            12989.000000            12989.000000   \n",
              "mean                 0.514449                0.438340   \n",
              "std                  0.496275                0.480339   \n",
              "min                  0.000000                0.000000   \n",
              "25%                  0.000000                0.000000   \n",
              "50%                  1.000000                0.000000   \n",
              "75%                  1.000000                1.000000   \n",
              "max                  1.000000                1.000000   \n",
              "\n",
              "       dst_host_same_src_port_rate  dst_host_srv_diff_host_rate  \\\n",
              "count                 12989.000000                 12989.000000   \n",
              "mean                      0.509831                     0.218841   \n",
              "std                       0.483347                     0.282489   \n",
              "min                       0.000000                     0.000000   \n",
              "25%                       0.000000                     0.000000   \n",
              "50%                       0.540000                     0.000000   \n",
              "75%                       1.000000                     0.500000   \n",
              "max                       1.000000                     1.000000   \n",
              "\n",
              "       dst_host_serror_rate  dst_host_srv_serror_rate  dst_host_rerror_rate  \\\n",
              "count          12989.000000              12989.000000          12989.000000   \n",
              "mean               0.019981                  0.027064              0.421735   \n",
              "std                0.051303                  0.157883              0.456708   \n",
              "min                0.000000                  0.000000              0.000000   \n",
              "25%                0.000000                  0.000000              0.000000   \n",
              "50%                0.000000                  0.000000              0.050000   \n",
              "75%                0.010000                  0.000000              0.940000   \n",
              "max                0.580000                  1.000000              1.000000   \n",
              "\n",
              "       dst_host_srv_rerror_rate  \n",
              "count              12989.000000  \n",
              "mean                   0.438319  \n",
              "std                    0.490593  \n",
              "min                    0.000000  \n",
              "25%                    0.000000  \n",
              "50%                    0.040000  \n",
              "75%                    1.000000  \n",
              "max                    1.000000  \n",
              "\n",
              "[8 rows x 29 columns]"
            ],
            "text/html": [
              "\n",
              "\n",
              "  <div id=\"df-7040a6e6-9759-433c-81fd-dbdb26260a54\">\n",
              "    <div class=\"colab-df-container\">\n",
              "      <div>\n",
              "<style scoped>\n",
              "    .dataframe tbody tr th:only-of-type {\n",
              "        vertical-align: middle;\n",
              "    }\n",
              "\n",
              "    .dataframe tbody tr th {\n",
              "        vertical-align: top;\n",
              "    }\n",
              "\n",
              "    .dataframe thead th {\n",
              "        text-align: right;\n",
              "    }\n",
              "</style>\n",
              "<table border=\"1\" class=\"dataframe\">\n",
              "  <thead>\n",
              "    <tr style=\"text-align: right;\">\n",
              "      <th></th>\n",
              "      <th>Id</th>\n",
              "      <th>duration</th>\n",
              "      <th>src_bytes</th>\n",
              "      <th>dst_bytes</th>\n",
              "      <th>hot</th>\n",
              "      <th>logged_in</th>\n",
              "      <th>num_compromised</th>\n",
              "      <th>num_root</th>\n",
              "      <th>num_shells</th>\n",
              "      <th>num_access_files</th>\n",
              "      <th>...</th>\n",
              "      <th>dst_host_count</th>\n",
              "      <th>dst_host_srv_count</th>\n",
              "      <th>dst_host_same_srv_rate</th>\n",
              "      <th>dst_host_diff_srv_rate</th>\n",
              "      <th>dst_host_same_src_port_rate</th>\n",
              "      <th>dst_host_srv_diff_host_rate</th>\n",
              "      <th>dst_host_serror_rate</th>\n",
              "      <th>dst_host_srv_serror_rate</th>\n",
              "      <th>dst_host_rerror_rate</th>\n",
              "      <th>dst_host_srv_rerror_rate</th>\n",
              "    </tr>\n",
              "  </thead>\n",
              "  <tbody>\n",
              "    <tr>\n",
              "      <th>count</th>\n",
              "      <td>12989.000000</td>\n",
              "      <td>12989.000000</td>\n",
              "      <td>12989.000000</td>\n",
              "      <td>12989.000000</td>\n",
              "      <td>12989.000000</td>\n",
              "      <td>12989.000000</td>\n",
              "      <td>12989.000000</td>\n",
              "      <td>12989.000000</td>\n",
              "      <td>12989.000000</td>\n",
              "      <td>12989.000000</td>\n",
              "      <td>...</td>\n",
              "      <td>12989.000000</td>\n",
              "      <td>12989.000000</td>\n",
              "      <td>12989.000000</td>\n",
              "      <td>12989.000000</td>\n",
              "      <td>12989.000000</td>\n",
              "      <td>12989.000000</td>\n",
              "      <td>12989.000000</td>\n",
              "      <td>12989.000000</td>\n",
              "      <td>12989.000000</td>\n",
              "      <td>12989.000000</td>\n",
              "    </tr>\n",
              "    <tr>\n",
              "      <th>mean</th>\n",
              "      <td>6495.000000</td>\n",
              "      <td>0.157056</td>\n",
              "      <td>5865.168065</td>\n",
              "      <td>1097.630072</td>\n",
              "      <td>0.212795</td>\n",
              "      <td>0.153668</td>\n",
              "      <td>0.104935</td>\n",
              "      <td>0.000154</td>\n",
              "      <td>0.000077</td>\n",
              "      <td>0.000077</td>\n",
              "      <td>...</td>\n",
              "      <td>139.733929</td>\n",
              "      <td>111.833397</td>\n",
              "      <td>0.514449</td>\n",
              "      <td>0.438340</td>\n",
              "      <td>0.509831</td>\n",
              "      <td>0.218841</td>\n",
              "      <td>0.019981</td>\n",
              "      <td>0.027064</td>\n",
              "      <td>0.421735</td>\n",
              "      <td>0.438319</td>\n",
              "    </tr>\n",
              "    <tr>\n",
              "      <th>std</th>\n",
              "      <td>3749.745658</td>\n",
              "      <td>1.817548</td>\n",
              "      <td>16851.470935</td>\n",
              "      <td>4153.357121</td>\n",
              "      <td>0.614088</td>\n",
              "      <td>0.360645</td>\n",
              "      <td>0.306481</td>\n",
              "      <td>0.012408</td>\n",
              "      <td>0.008774</td>\n",
              "      <td>0.008774</td>\n",
              "      <td>...</td>\n",
              "      <td>121.745589</td>\n",
              "      <td>120.355996</td>\n",
              "      <td>0.496275</td>\n",
              "      <td>0.480339</td>\n",
              "      <td>0.483347</td>\n",
              "      <td>0.282489</td>\n",
              "      <td>0.051303</td>\n",
              "      <td>0.157883</td>\n",
              "      <td>0.456708</td>\n",
              "      <td>0.490593</td>\n",
              "    </tr>\n",
              "    <tr>\n",
              "      <th>min</th>\n",
              "      <td>1.000000</td>\n",
              "      <td>0.000000</td>\n",
              "      <td>0.000000</td>\n",
              "      <td>0.000000</td>\n",
              "      <td>0.000000</td>\n",
              "      <td>0.000000</td>\n",
              "      <td>0.000000</td>\n",
              "      <td>0.000000</td>\n",
              "      <td>0.000000</td>\n",
              "      <td>0.000000</td>\n",
              "      <td>...</td>\n",
              "      <td>0.000000</td>\n",
              "      <td>0.000000</td>\n",
              "      <td>0.000000</td>\n",
              "      <td>0.000000</td>\n",
              "      <td>0.000000</td>\n",
              "      <td>0.000000</td>\n",
              "      <td>0.000000</td>\n",
              "      <td>0.000000</td>\n",
              "      <td>0.000000</td>\n",
              "      <td>0.000000</td>\n",
              "    </tr>\n",
              "    <tr>\n",
              "      <th>25%</th>\n",
              "      <td>3248.000000</td>\n",
              "      <td>0.000000</td>\n",
              "      <td>0.000000</td>\n",
              "      <td>0.000000</td>\n",
              "      <td>0.000000</td>\n",
              "      <td>0.000000</td>\n",
              "      <td>0.000000</td>\n",
              "      <td>0.000000</td>\n",
              "      <td>0.000000</td>\n",
              "      <td>0.000000</td>\n",
              "      <td>...</td>\n",
              "      <td>2.000000</td>\n",
              "      <td>1.000000</td>\n",
              "      <td>0.000000</td>\n",
              "      <td>0.000000</td>\n",
              "      <td>0.000000</td>\n",
              "      <td>0.000000</td>\n",
              "      <td>0.000000</td>\n",
              "      <td>0.000000</td>\n",
              "      <td>0.000000</td>\n",
              "      <td>0.000000</td>\n",
              "    </tr>\n",
              "    <tr>\n",
              "      <th>50%</th>\n",
              "      <td>6495.000000</td>\n",
              "      <td>0.000000</td>\n",
              "      <td>8.000000</td>\n",
              "      <td>0.000000</td>\n",
              "      <td>0.000000</td>\n",
              "      <td>0.000000</td>\n",
              "      <td>0.000000</td>\n",
              "      <td>0.000000</td>\n",
              "      <td>0.000000</td>\n",
              "      <td>0.000000</td>\n",
              "      <td>...</td>\n",
              "      <td>255.000000</td>\n",
              "      <td>22.000000</td>\n",
              "      <td>1.000000</td>\n",
              "      <td>0.000000</td>\n",
              "      <td>0.540000</td>\n",
              "      <td>0.000000</td>\n",
              "      <td>0.000000</td>\n",
              "      <td>0.000000</td>\n",
              "      <td>0.050000</td>\n",
              "      <td>0.040000</td>\n",
              "    </tr>\n",
              "    <tr>\n",
              "      <th>75%</th>\n",
              "      <td>9742.000000</td>\n",
              "      <td>0.000000</td>\n",
              "      <td>8.000000</td>\n",
              "      <td>0.000000</td>\n",
              "      <td>0.000000</td>\n",
              "      <td>0.000000</td>\n",
              "      <td>0.000000</td>\n",
              "      <td>0.000000</td>\n",
              "      <td>0.000000</td>\n",
              "      <td>0.000000</td>\n",
              "      <td>...</td>\n",
              "      <td>255.000000</td>\n",
              "      <td>255.000000</td>\n",
              "      <td>1.000000</td>\n",
              "      <td>1.000000</td>\n",
              "      <td>1.000000</td>\n",
              "      <td>0.500000</td>\n",
              "      <td>0.010000</td>\n",
              "      <td>0.000000</td>\n",
              "      <td>0.940000</td>\n",
              "      <td>1.000000</td>\n",
              "    </tr>\n",
              "    <tr>\n",
              "      <th>max</th>\n",
              "      <td>12989.000000</td>\n",
              "      <td>78.000000</td>\n",
              "      <td>54540.000000</td>\n",
              "      <td>238768.000000</td>\n",
              "      <td>2.000000</td>\n",
              "      <td>1.000000</td>\n",
              "      <td>1.000000</td>\n",
              "      <td>1.000000</td>\n",
              "      <td>1.000000</td>\n",
              "      <td>1.000000</td>\n",
              "      <td>...</td>\n",
              "      <td>255.000000</td>\n",
              "      <td>255.000000</td>\n",
              "      <td>1.000000</td>\n",
              "      <td>1.000000</td>\n",
              "      <td>1.000000</td>\n",
              "      <td>1.000000</td>\n",
              "      <td>0.580000</td>\n",
              "      <td>1.000000</td>\n",
              "      <td>1.000000</td>\n",
              "      <td>1.000000</td>\n",
              "    </tr>\n",
              "  </tbody>\n",
              "</table>\n",
              "<p>8 rows × 29 columns</p>\n",
              "</div>\n",
              "      <button class=\"colab-df-convert\" onclick=\"convertToInteractive('df-7040a6e6-9759-433c-81fd-dbdb26260a54')\"\n",
              "              title=\"Convert this dataframe to an interactive table.\"\n",
              "              style=\"display:none;\">\n",
              "\n",
              "  <svg xmlns=\"http://www.w3.org/2000/svg\" height=\"24px\"viewBox=\"0 0 24 24\"\n",
              "       width=\"24px\">\n",
              "    <path d=\"M0 0h24v24H0V0z\" fill=\"none\"/>\n",
              "    <path d=\"M18.56 5.44l.94 2.06.94-2.06 2.06-.94-2.06-.94-.94-2.06-.94 2.06-2.06.94zm-11 1L8.5 8.5l.94-2.06 2.06-.94-2.06-.94L8.5 2.5l-.94 2.06-2.06.94zm10 10l.94 2.06.94-2.06 2.06-.94-2.06-.94-.94-2.06-.94 2.06-2.06.94z\"/><path d=\"M17.41 7.96l-1.37-1.37c-.4-.4-.92-.59-1.43-.59-.52 0-1.04.2-1.43.59L10.3 9.45l-7.72 7.72c-.78.78-.78 2.05 0 2.83L4 21.41c.39.39.9.59 1.41.59.51 0 1.02-.2 1.41-.59l7.78-7.78 2.81-2.81c.8-.78.8-2.07 0-2.86zM5.41 20L4 18.59l7.72-7.72 1.47 1.35L5.41 20z\"/>\n",
              "  </svg>\n",
              "      </button>\n",
              "\n",
              "\n",
              "\n",
              "    <div id=\"df-7c428005-5c3a-4375-b552-2f253ddc43ff\">\n",
              "      <button class=\"colab-df-quickchart\" onclick=\"quickchart('df-7c428005-5c3a-4375-b552-2f253ddc43ff')\"\n",
              "              title=\"Suggest charts.\"\n",
              "              style=\"display:none;\">\n",
              "\n",
              "<svg xmlns=\"http://www.w3.org/2000/svg\" height=\"24px\"viewBox=\"0 0 24 24\"\n",
              "     width=\"24px\">\n",
              "    <g>\n",
              "        <path d=\"M19 3H5c-1.1 0-2 .9-2 2v14c0 1.1.9 2 2 2h14c1.1 0 2-.9 2-2V5c0-1.1-.9-2-2-2zM9 17H7v-7h2v7zm4 0h-2V7h2v10zm4 0h-2v-4h2v4z\"/>\n",
              "    </g>\n",
              "</svg>\n",
              "      </button>\n",
              "    </div>\n",
              "\n",
              "<style>\n",
              "  .colab-df-quickchart {\n",
              "    background-color: #E8F0FE;\n",
              "    border: none;\n",
              "    border-radius: 50%;\n",
              "    cursor: pointer;\n",
              "    display: none;\n",
              "    fill: #1967D2;\n",
              "    height: 32px;\n",
              "    padding: 0 0 0 0;\n",
              "    width: 32px;\n",
              "  }\n",
              "\n",
              "  .colab-df-quickchart:hover {\n",
              "    background-color: #E2EBFA;\n",
              "    box-shadow: 0px 1px 2px rgba(60, 64, 67, 0.3), 0px 1px 3px 1px rgba(60, 64, 67, 0.15);\n",
              "    fill: #174EA6;\n",
              "  }\n",
              "\n",
              "  [theme=dark] .colab-df-quickchart {\n",
              "    background-color: #3B4455;\n",
              "    fill: #D2E3FC;\n",
              "  }\n",
              "\n",
              "  [theme=dark] .colab-df-quickchart:hover {\n",
              "    background-color: #434B5C;\n",
              "    box-shadow: 0px 1px 3px 1px rgba(0, 0, 0, 0.15);\n",
              "    filter: drop-shadow(0px 1px 2px rgba(0, 0, 0, 0.3));\n",
              "    fill: #FFFFFF;\n",
              "  }\n",
              "</style>\n",
              "\n",
              "    <script>\n",
              "      async function quickchart(key) {\n",
              "        const containerElement = document.querySelector('#' + key);\n",
              "        const charts = await google.colab.kernel.invokeFunction(\n",
              "            'suggestCharts', [key], {});\n",
              "      }\n",
              "    </script>\n",
              "\n",
              "      <script>\n",
              "\n",
              "function displayQuickchartButton(domScope) {\n",
              "  let quickchartButtonEl =\n",
              "    domScope.querySelector('#df-7c428005-5c3a-4375-b552-2f253ddc43ff button.colab-df-quickchart');\n",
              "  quickchartButtonEl.style.display =\n",
              "    google.colab.kernel.accessAllowed ? 'block' : 'none';\n",
              "}\n",
              "\n",
              "        displayQuickchartButton(document);\n",
              "      </script>\n",
              "      <style>\n",
              "    .colab-df-container {\n",
              "      display:flex;\n",
              "      flex-wrap:wrap;\n",
              "      gap: 12px;\n",
              "    }\n",
              "\n",
              "    .colab-df-convert {\n",
              "      background-color: #E8F0FE;\n",
              "      border: none;\n",
              "      border-radius: 50%;\n",
              "      cursor: pointer;\n",
              "      display: none;\n",
              "      fill: #1967D2;\n",
              "      height: 32px;\n",
              "      padding: 0 0 0 0;\n",
              "      width: 32px;\n",
              "    }\n",
              "\n",
              "    .colab-df-convert:hover {\n",
              "      background-color: #E2EBFA;\n",
              "      box-shadow: 0px 1px 2px rgba(60, 64, 67, 0.3), 0px 1px 3px 1px rgba(60, 64, 67, 0.15);\n",
              "      fill: #174EA6;\n",
              "    }\n",
              "\n",
              "    [theme=dark] .colab-df-convert {\n",
              "      background-color: #3B4455;\n",
              "      fill: #D2E3FC;\n",
              "    }\n",
              "\n",
              "    [theme=dark] .colab-df-convert:hover {\n",
              "      background-color: #434B5C;\n",
              "      box-shadow: 0px 1px 3px 1px rgba(0, 0, 0, 0.15);\n",
              "      filter: drop-shadow(0px 1px 2px rgba(0, 0, 0, 0.3));\n",
              "      fill: #FFFFFF;\n",
              "    }\n",
              "  </style>\n",
              "\n",
              "      <script>\n",
              "        const buttonEl =\n",
              "          document.querySelector('#df-7040a6e6-9759-433c-81fd-dbdb26260a54 button.colab-df-convert');\n",
              "        buttonEl.style.display =\n",
              "          google.colab.kernel.accessAllowed ? 'block' : 'none';\n",
              "\n",
              "        async function convertToInteractive(key) {\n",
              "          const element = document.querySelector('#df-7040a6e6-9759-433c-81fd-dbdb26260a54');\n",
              "          const dataTable =\n",
              "            await google.colab.kernel.invokeFunction('convertToInteractive',\n",
              "                                                     [key], {});\n",
              "          if (!dataTable) return;\n",
              "\n",
              "          const docLinkHtml = 'Like what you see? Visit the ' +\n",
              "            '<a target=\"_blank\" href=https://colab.research.google.com/notebooks/data_table.ipynb>data table notebook</a>'\n",
              "            + ' to learn more about interactive tables.';\n",
              "          element.innerHTML = '';\n",
              "          dataTable['output_type'] = 'display_data';\n",
              "          await google.colab.output.renderOutput(dataTable, element);\n",
              "          const docLink = document.createElement('div');\n",
              "          docLink.innerHTML = docLinkHtml;\n",
              "          element.appendChild(docLink);\n",
              "        }\n",
              "      </script>\n",
              "    </div>\n",
              "  </div>\n"
            ]
          },
          "metadata": {},
          "execution_count": 5
        }
      ],
      "source": [
        "df.describe()"
      ]
    },
    {
      "cell_type": "code",
      "execution_count": null,
      "metadata": {
        "colab": {
          "base_uri": "https://localhost:8080/"
        },
        "id": "XOuIjfVNJi8z",
        "outputId": "d732a371-60e0-43dc-ebee-e36183597382"
      },
      "outputs": [
        {
          "output_type": "stream",
          "name": "stdout",
          "text": [
            "<class 'pandas.core.frame.DataFrame'>\n",
            "RangeIndex: 12989 entries, 0 to 12988\n",
            "Data columns (total 33 columns):\n",
            " #   Column                       Non-Null Count  Dtype  \n",
            "---  ------                       --------------  -----  \n",
            " 0   Id                           12989 non-null  int64  \n",
            " 1   duration                     12989 non-null  int64  \n",
            " 2   protocol_type                12989 non-null  object \n",
            " 3   service                      12989 non-null  object \n",
            " 4   flag                         12989 non-null  object \n",
            " 5   src_bytes                    12989 non-null  int64  \n",
            " 6   dst_bytes                    12989 non-null  int64  \n",
            " 7   hot                          12989 non-null  int64  \n",
            " 8   logged_in                    12989 non-null  int64  \n",
            " 9   num_compromised              12989 non-null  int64  \n",
            " 10  num_root                     12989 non-null  int64  \n",
            " 11  num_shells                   12989 non-null  int64  \n",
            " 12  num_access_files             12989 non-null  int64  \n",
            " 13  count                        12989 non-null  int64  \n",
            " 14  srv_count                    12989 non-null  int64  \n",
            " 15  serror_rate                  12989 non-null  float64\n",
            " 16  srv_serror_rate              12989 non-null  float64\n",
            " 17  rerror_rate                  12989 non-null  float64\n",
            " 18  srv_rerror_rate              12989 non-null  float64\n",
            " 19  same_srv_rate                12989 non-null  float64\n",
            " 20  diff_srv_rate                12989 non-null  float64\n",
            " 21  srv_diff_host_rate           12989 non-null  float64\n",
            " 22  dst_host_count               12989 non-null  int64  \n",
            " 23  dst_host_srv_count           12989 non-null  int64  \n",
            " 24  dst_host_same_srv_rate       12989 non-null  float64\n",
            " 25  dst_host_diff_srv_rate       12989 non-null  float64\n",
            " 26  dst_host_same_src_port_rate  12989 non-null  float64\n",
            " 27  dst_host_srv_diff_host_rate  12989 non-null  float64\n",
            " 28  dst_host_serror_rate         12989 non-null  float64\n",
            " 29  dst_host_srv_serror_rate     12989 non-null  float64\n",
            " 30  dst_host_rerror_rate         12989 non-null  float64\n",
            " 31  dst_host_srv_rerror_rate     12989 non-null  float64\n",
            " 32  type_of_attack               12989 non-null  object \n",
            "dtypes: float64(15), int64(14), object(4)\n",
            "memory usage: 3.3+ MB\n"
          ]
        }
      ],
      "source": [
        "df.info()"
      ]
    },
    {
      "cell_type": "code",
      "source": [
        "df['protocol_type'].nunique()"
      ],
      "metadata": {
        "colab": {
          "base_uri": "https://localhost:8080/"
        },
        "id": "tFQAouRyIytg",
        "outputId": "6ff37261-95a0-49d7-ac74-8558846dc2b5"
      },
      "execution_count": null,
      "outputs": [
        {
          "output_type": "execute_result",
          "data": {
            "text/plain": [
              "3"
            ]
          },
          "metadata": {},
          "execution_count": 7
        }
      ]
    },
    {
      "cell_type": "code",
      "source": [
        "df['service'].value_counts()\n"
      ],
      "metadata": {
        "colab": {
          "base_uri": "https://localhost:8080/"
        },
        "id": "pyOMb1pCI6n4",
        "outputId": "a2900770-382a-448b-9be7-ca68c485921d"
      },
      "execution_count": null,
      "outputs": [
        {
          "output_type": "execute_result",
          "data": {
            "text/plain": [
              "eco_i        4663\n",
              "other        3400\n",
              "private      2592\n",
              "http         1971\n",
              "ftp_data       33\n",
              "             ... \n",
              "efs             1\n",
              "pop_3           1\n",
              "http_443        1\n",
              "http_2784       1\n",
              "iso_tsap        1\n",
              "Name: service, Length: 61, dtype: int64"
            ]
          },
          "metadata": {},
          "execution_count": 8
        }
      ]
    },
    {
      "cell_type": "code",
      "source": [
        "df['flag'].nunique()\n"
      ],
      "metadata": {
        "colab": {
          "base_uri": "https://localhost:8080/"
        },
        "id": "WgPl3r_hI7PH",
        "outputId": "454b2b5c-f2ea-435b-a6c2-61c1063be136"
      },
      "execution_count": null,
      "outputs": [
        {
          "output_type": "execute_result",
          "data": {
            "text/plain": [
              "9"
            ]
          },
          "metadata": {},
          "execution_count": 9
        }
      ]
    },
    {
      "cell_type": "code",
      "source": [
        "df['type_of_attack'].value_counts().plot(kind='bar')\n",
        "plt.xlabel(\"type_of_attack\")\n",
        "plt.ylabel(\"Count\")\n",
        "plt.title(\"Distribution of Target Variable - Attack Prediction\")"
      ],
      "metadata": {
        "colab": {
          "base_uri": "https://localhost:8080/",
          "height": 552
        },
        "id": "G1uIeq_zQKIn",
        "outputId": "a9455625-e54e-407d-f227-7ad1058fdbc0"
      },
      "execution_count": null,
      "outputs": [
        {
          "output_type": "execute_result",
          "data": {
            "text/plain": [
              "Text(0.5, 1.0, 'Distribution of Target Variable - Attack Prediction')"
            ]
          },
          "metadata": {},
          "execution_count": 97
        },
        {
          "output_type": "display_data",
          "data": {
            "text/plain": [
              "<Figure size 640x480 with 1 Axes>"
            ],
            "image/png": "[encoded data removed]"
          },
          "metadata": {}
        }
      ]
    },
    {
      "cell_type": "code",
      "source": [
        "sns.countplot(data=df,x='protocol_type',hue='type_of_attack')\n",
        "plt.xlabel(\"type_of_attack\")\n",
        "plt.ylabel(\"protocol_type\")\n",
        "plt.title(\"Distribution of Type of Attack Vs Protocol Type - Attack Prediction\")\n",
        "plt.show()"
      ],
      "metadata": {
        "colab": {
          "base_uri": "https://localhost:8080/",
          "height": 472
        },
        "id": "qpJ5lEBcMvEn",
        "outputId": "e34b874f-7db6-4f84-df1e-79646df69510"
      },
      "execution_count": null,
      "outputs": [
        {
          "output_type": "display_data",
          "data": {
            "text/plain": [
              "<Figure size 640x480 with 1 Axes>"
            ],
            "image/png": "[encoded data removed]"
          },
          "metadata": {}
        }
      ]
    },
    {
      "cell_type": "code",
      "source": [
        "sns.countplot(data=df,x='service',hue='type_of_attack')\n",
        "pyplot.figure(figsize=(60,60))\n",
        "pyplot.show()"
      ],
      "metadata": {
        "colab": {
          "base_uri": "https://localhost:8080/",
          "height": 467
        },
        "id": "bW-lSjHgNG8w",
        "outputId": "5392b592-1495-48cc-9bff-f3b2888d8a3e"
      },
      "execution_count": null,
      "outputs": [
        {
          "output_type": "display_data",
          "data": {
            "text/plain": [
              "<Figure size 640x480 with 1 Axes>"
            ],
            "image/png": "[encoded data removed]"
          },
          "metadata": {}
        },
        {
          "output_type": "display_data",
          "data": {
            "text/plain": [
              "<Figure size 6000x6000 with 0 Axes>"
            ]
          },
          "metadata": {}
        }
      ]
    },
    {
      "cell_type": "code",
      "source": [
        "sns.countplot(data=df,x='service',hue='type_of_attack')\n",
        "pyplot.figure(figsize=(60,60))\n",
        "pyplot.show()"
      ],
      "metadata": {
        "colab": {
          "base_uri": "https://localhost:8080/",
          "height": 467
        },
        "id": "mwOJGVt_Nmym",
        "outputId": "0d4d1458-2fab-4783-e99f-50cd1e7421bb"
      },
      "execution_count": null,
      "outputs": [
        {
          "output_type": "display_data",
          "data": {
            "text/plain": [
              "<Figure size 640x480 with 1 Axes>"
            ],
            "image/png": "[encoded data removed]"
          },
          "metadata": {}
        },
        {
          "output_type": "display_data",
          "data": {
            "text/plain": [
              "<Figure size 6000x6000 with 0 Axes>"
            ]
          },
          "metadata": {}
        }
      ]
    },
    {
      "cell_type": "code",
      "source": [
        "sns.countplot(data=df,x='flag',hue='type_of_attack')\n",
        "plt.xlabel(\"type_of_attack\")\n",
        "plt.ylabel(\"flag\")\n",
        "plt.title(\"Distribution of Type of Attack Vs flag - Attack Prediction\")\n",
        "plt.show()"
      ],
      "metadata": {
        "colab": {
          "base_uri": "https://localhost:8080/",
          "height": 472
        },
        "id": "ncq0rP6qOiEh",
        "outputId": "25dedb26-d9ca-40bd-dd73-fe716f1bee19"
      },
      "execution_count": null,
      "outputs": [
        {
          "output_type": "display_data",
          "data": {
            "text/plain": [
              "<Figure size 640x480 with 1 Axes>"
            ],
            "image/png": "[encoded data removed]"
          },
          "metadata": {}
        }
      ]
    },
    {
      "cell_type": "code",
      "source": [
        "# df_data_ipsweep = df[df['type_of_attack'] == 'ipsweep.']\n",
        "# len_data1 = len(df_data_ipsweep)\n",
        "# df_data_satan = df[df['type_of_attack'] == 'satan.'].sample(len_data1,replace=True)\n",
        "# df_data_psweep=df[df['type_of_attack'] == 'portsweep.'].sample(len_data1,replace=True)\n",
        "# df_data_back=df[df['type_of_attack'] == 'back.'].sample(len_data1,replace=True)\n",
        "# df_data_normal=df[df['type_of_attack'] == 'normal.'].sample(len_data1,replace=True)\n",
        "# df1 = pd.concat([df_data_ipsweep,\n",
        "#                          \tdf_data_satan,df_data_psweep,df_data_back,df_data_normal])\n",
        "\n",
        "# print(df1.shape)"
      ],
      "metadata": {
        "id": "ZO6AMeyMQyIc"
      },
      "execution_count": null,
      "outputs": []
    },
    {
      "cell_type": "code",
      "source": [
        "sns.histplot(data=df, x=\"srv_count\", binwidth=3)"
      ],
      "metadata": {
        "colab": {
          "base_uri": "https://localhost:8080/",
          "height": 466
        },
        "id": "-mAExdAIN_v7",
        "outputId": "f2daf268-c92c-4a25-b11b-0faf21f18fb3"
      },
      "execution_count": null,
      "outputs": [
        {
          "output_type": "execute_result",
          "data": {
            "text/plain": [
              "<Axes: xlabel='srv_count', ylabel='Count'>"
            ]
          },
          "metadata": {},
          "execution_count": 85
        },
        {
          "output_type": "display_data",
          "data": {
            "text/plain": [
              "<Figure size 640x480 with 1 Axes>"
            ],
            "image/png": "[encoded data removed]"
          },
          "metadata": {}
        }
      ]
    },
    {
      "cell_type": "code",
      "source": [
        "fig, ax = plt.subplots(2, 3, sharex='col', sharey='row')\n",
        "\n",
        "m=5\n",
        "for i in range(2):\n",
        "    for j in range(3):\n",
        "\n",
        "        df.hist(column = df.columns[m], bins = 12, ax=ax[i,j], figsize=(20, 18))\n",
        "        m+=1\n",
        "# plt.xlabel(\"Values\")\n",
        "# plt.ylabel(\"Count\")\n",
        "# plt.title(\"Histogram of 5 Variables\")\n",
        "# plt.show()"
      ],
      "metadata": {
        "colab": {
          "base_uri": "https://localhost:8080/",
          "height": 452
        },
        "id": "KrsUceNsZCv7",
        "outputId": "bf4e742e-0015-4e73-e41d-697f8caf9cb9"
      },
      "execution_count": null,
      "outputs": [
        {
          "output_type": "display_data",
          "data": {
            "text/plain": [
              "<Figure size 640x480 with 6 Axes>"
            ],
            "image/png": "[encoded data removed]"
          },
          "metadata": {}
        }
      ]
    },
    {
      "cell_type": "code",
      "source": [
        "df.hist()\n",
        "pyplot.figure(figsize=(60,60))\n",
        "pyplot.show()"
      ],
      "metadata": {
        "colab": {
          "base_uri": "https://localhost:8080/",
          "height": 469
        },
        "id": "PqDHY7cACoaC",
        "outputId": "de5cb14c-5b9c-40fb-e540-3ee27716f893"
      },
      "execution_count": null,
      "outputs": [
        {
          "output_type": "display_data",
          "data": {
            "text/plain": [
              "<Figure size 640x480 with 30 Axes>"
            ],
            "image/png": "[encoded data removed]"
          },
          "metadata": {}
        },
        {
          "output_type": "display_data",
          "data": {
            "text/plain": [
              "<Figure size 6000x6000 with 0 Axes>"
            ]
          },
          "metadata": {}
        }
      ]
    },
    {
      "cell_type": "markdown",
      "source": [
        "#OneHot Encoding of Independent Variables\n",
        "\n"
      ],
      "metadata": {
        "id": "H8oCv--k_Vjr"
      }
    },
    {
      "cell_type": "code",
      "source": [
        "# df1.reset_index(inplace=True,drop=True)\n",
        "# df1"
      ],
      "metadata": {
        "id": "aYSaHLGyDJJW"
      },
      "execution_count": null,
      "outputs": []
    },
    {
      "cell_type": "code",
      "source": [
        "# checking features\n",
        "cat = df.select_dtypes(include='O').columns[:-1].tolist()"
      ],
      "metadata": {
        "id": "joDbQy4ZCipU"
      },
      "execution_count": null,
      "outputs": []
    },
    {
      "cell_type": "code",
      "source": [
        "cat"
      ],
      "metadata": {
        "colab": {
          "base_uri": "https://localhost:8080/"
        },
        "id": "HY7wTt6YCk6s",
        "outputId": "1cb459aa-5606-4c48-e16f-c9c86d85612b"
      },
      "execution_count": null,
      "outputs": [
        {
          "output_type": "execute_result",
          "data": {
            "text/plain": [
              "['protocol_type', 'service', 'flag']"
            ]
          },
          "metadata": {},
          "execution_count": 15
        }
      ]
    },
    {
      "cell_type": "code",
      "source": [
        "# # creating instance of one-hot-encoder\n",
        "# enc = OneHotEncoder(handle_unknown='ignore',categories='auto')\n",
        "# feature_arr = enc.fit_transform(df[cat]).toarray()\n",
        "# feature_labels = enc.get_feature_names_out()\n",
        "# feature_labels = np.array(feature_labels).ravel()\n",
        "# features = pd.DataFrame(feature_arr, columns=feature_labels)\n",
        "# # now concatenate the original data and the encoded data using pandas\n",
        "# data = pd.concat([df, features], axis=1)\n",
        "# data"
      ],
      "metadata": {
        "id": "u_kpLjlw_dIp"
      },
      "execution_count": null,
      "outputs": []
    },
    {
      "cell_type": "code",
      "source": [
        "data=df.copy()\n",
        "data.columns"
      ],
      "metadata": {
        "colab": {
          "base_uri": "https://localhost:8080/"
        },
        "id": "5ndW6so_Ihf6",
        "outputId": "b4a55f4a-34c1-43ae-c091-fd21bbeaa687"
      },
      "execution_count": null,
      "outputs": [
        {
          "output_type": "execute_result",
          "data": {
            "text/plain": [
              "Index(['Id', 'duration', 'protocol_type', 'service', 'flag', 'src_bytes',\n",
              "       'dst_bytes', 'hot', 'logged_in', 'num_compromised', 'num_root',\n",
              "       'num_shells', 'num_access_files', 'count', 'srv_count', 'serror_rate',\n",
              "       'srv_serror_rate', 'rerror_rate', 'srv_rerror_rate', 'same_srv_rate',\n",
              "       'diff_srv_rate', 'srv_diff_host_rate', 'dst_host_count',\n",
              "       'dst_host_srv_count', 'dst_host_same_srv_rate',\n",
              "       'dst_host_diff_srv_rate', 'dst_host_same_src_port_rate',\n",
              "       'dst_host_srv_diff_host_rate', 'dst_host_serror_rate',\n",
              "       'dst_host_srv_serror_rate', 'dst_host_rerror_rate',\n",
              "       'dst_host_srv_rerror_rate', 'type_of_attack'],\n",
              "      dtype='object')"
            ]
          },
          "metadata": {},
          "execution_count": 17
        }
      ]
    },
    {
      "cell_type": "code",
      "source": [
        "# data.drop(cat,axis=1,inplace=True)"
      ],
      "metadata": {
        "id": "yBzNKuHOKwZs"
      },
      "execution_count": null,
      "outputs": []
    },
    {
      "cell_type": "code",
      "source": [
        "data.info()"
      ],
      "metadata": {
        "colab": {
          "base_uri": "https://localhost:8080/"
        },
        "id": "mgCZGrgKRVAj",
        "outputId": "3e09547b-f44a-43b1-a060-4ed4055e08c4"
      },
      "execution_count": null,
      "outputs": [
        {
          "output_type": "stream",
          "name": "stdout",
          "text": [
            "<class 'pandas.core.frame.DataFrame'>\n",
            "RangeIndex: 12989 entries, 0 to 12988\n",
            "Data columns (total 33 columns):\n",
            " #   Column                       Non-Null Count  Dtype  \n",
            "---  ------                       --------------  -----  \n",
            " 0   Id                           12989 non-null  int64  \n",
            " 1   duration                     12989 non-null  int64  \n",
            " 2   protocol_type                12989 non-null  object \n",
            " 3   service                      12989 non-null  object \n",
            " 4   flag                         12989 non-null  object \n",
            " 5   src_bytes                    12989 non-null  int64  \n",
            " 6   dst_bytes                    12989 non-null  int64  \n",
            " 7   hot                          12989 non-null  int64  \n",
            " 8   logged_in                    12989 non-null  int64  \n",
            " 9   num_compromised              12989 non-null  int64  \n",
            " 10  num_root                     12989 non-null  int64  \n",
            " 11  num_shells                   12989 non-null  int64  \n",
            " 12  num_access_files             12989 non-null  int64  \n",
            " 13  count                        12989 non-null  int64  \n",
            " 14  srv_count                    12989 non-null  int64  \n",
            " 15  serror_rate                  12989 non-null  float64\n",
            " 16  srv_serror_rate              12989 non-null  float64\n",
            " 17  rerror_rate                  12989 non-null  float64\n",
            " 18  srv_rerror_rate              12989 non-null  float64\n",
            " 19  same_srv_rate                12989 non-null  float64\n",
            " 20  diff_srv_rate                12989 non-null  float64\n",
            " 21  srv_diff_host_rate           12989 non-null  float64\n",
            " 22  dst_host_count               12989 non-null  int64  \n",
            " 23  dst_host_srv_count           12989 non-null  int64  \n",
            " 24  dst_host_same_srv_rate       12989 non-null  float64\n",
            " 25  dst_host_diff_srv_rate       12989 non-null  float64\n",
            " 26  dst_host_same_src_port_rate  12989 non-null  float64\n",
            " 27  dst_host_srv_diff_host_rate  12989 non-null  float64\n",
            " 28  dst_host_serror_rate         12989 non-null  float64\n",
            " 29  dst_host_srv_serror_rate     12989 non-null  float64\n",
            " 30  dst_host_rerror_rate         12989 non-null  float64\n",
            " 31  dst_host_srv_rerror_rate     12989 non-null  float64\n",
            " 32  type_of_attack               12989 non-null  object \n",
            "dtypes: float64(15), int64(14), object(4)\n",
            "memory usage: 3.3+ MB\n"
          ]
        }
      ]
    },
    {
      "cell_type": "markdown",
      "source": [
        "#Label Encoding of Target Column"
      ],
      "metadata": {
        "id": "iXCAGI6490Te"
      }
    },
    {
      "cell_type": "code",
      "source": [
        "# creating instance of labelencoder\n",
        "labelencoder = LabelEncoder()\n",
        "# Assigning numerical values and storing in another column\n",
        "data['type_of_attack'] = labelencoder.fit_transform(data['type_of_attack'])\n",
        "data['protocol_type'] = labelencoder.fit_transform(data['protocol_type'])\n",
        "data['service'] = labelencoder.fit_transform(data['service'])\n",
        "data['flag'] = labelencoder.fit_transform(data['flag'])"
      ],
      "metadata": {
        "id": "MEvLPS0T941d"
      },
      "execution_count": null,
      "outputs": []
    },
    {
      "cell_type": "markdown",
      "metadata": {
        "id": "kvR6AlWqzFwD"
      },
      "source": [
        "# Define Independent and Dependent features"
      ]
    },
    {
      "cell_type": "code",
      "execution_count": null,
      "metadata": {
        "id": "w7mNrWppzfW4"
      },
      "outputs": [],
      "source": [
        "X = data.drop(['Id','type_of_attack','hot','srv_serror_rate','dst_host_srv_serror_rate'], axis = 1)\n",
        "y = data['type_of_attack']"
      ]
    },
    {
      "cell_type": "code",
      "source": [
        "# from statsmodels.stats.outliers_influence import variance_inflation_factor\n",
        "\n",
        "# # the independent variables set\n",
        "\n",
        "# # VIF dataframe\n",
        "# vif_data = pd.DataFrame()\n",
        "# vif_data[\"feature\"] = X.columns\n",
        "\n",
        "# # calculating VIF for each feature\n",
        "# vif_data[\"VIF\"] = [variance_inflation_factor(X.values, i)\n",
        "# \t\t\t\t\t\tfor i in range(len(X.columns))]\n",
        "\n",
        "# vif_data\n"
      ],
      "metadata": {
        "id": "NOVpbM-Z6XLc"
      },
      "execution_count": null,
      "outputs": []
    },
    {
      "cell_type": "code",
      "source": [
        "# vif_data[:30]"
      ],
      "metadata": {
        "id": "-GS1WYYS6XIR"
      },
      "execution_count": null,
      "outputs": []
    },
    {
      "cell_type": "markdown",
      "metadata": {
        "id": "Yyxr6KaSwfmI"
      },
      "source": [
        "## Load Test data"
      ]
    },
    {
      "cell_type": "code",
      "execution_count": null,
      "metadata": {
        "id": "LjRc151Cwa1p"
      },
      "outputs": [],
      "source": [
        "test_data = pd.read_csv('test_rem.csv')"
      ]
    },
    {
      "cell_type": "code",
      "execution_count": null,
      "metadata": {
        "colab": {
          "base_uri": "https://localhost:8080/",
          "height": 300
        },
        "id": "5zF7me-ewpWu",
        "outputId": "bf0d0b6d-f56e-40ae-e284-ae83bfffa020"
      },
      "outputs": [
        {
          "output_type": "execute_result",
          "data": {
            "text/plain": [
              "   Id  duration protocol_type service flag  src_bytes  dst_bytes  hot  \\\n",
              "0   1         0          icmp   eco_i   SF          8          0    0   \n",
              "1   2         0          icmp   eco_i   SF          8          0    0   \n",
              "2   3         0          icmp   eco_i   SF          8          0    0   \n",
              "3   4         0          icmp   eco_i   SF          8          0    0   \n",
              "4   5         0          icmp   eco_i   SF          8          0    0   \n",
              "\n",
              "   logged_in  num_compromised  ...  dst_host_count  dst_host_srv_count  \\\n",
              "0          0                0  ...               2                 255   \n",
              "1          0                0  ...               2                 255   \n",
              "2          0                0  ...               2                 255   \n",
              "3          0                0  ...               1                 117   \n",
              "4          0                0  ...               1                 255   \n",
              "\n",
              "   dst_host_same_srv_rate  dst_host_diff_srv_rate  \\\n",
              "0                     1.0                     0.0   \n",
              "1                     1.0                     0.0   \n",
              "2                     1.0                     0.0   \n",
              "3                     1.0                     0.0   \n",
              "4                     1.0                     0.0   \n",
              "\n",
              "   dst_host_same_src_port_rate  dst_host_srv_diff_host_rate  \\\n",
              "0                          1.0                          0.5   \n",
              "1                          1.0                          0.5   \n",
              "2                          1.0                          0.5   \n",
              "3                          1.0                          0.5   \n",
              "4                          1.0                          0.5   \n",
              "\n",
              "   dst_host_serror_rate  dst_host_srv_serror_rate  dst_host_rerror_rate  \\\n",
              "0                   0.0                       0.0                   0.0   \n",
              "1                   0.0                       0.0                   0.0   \n",
              "2                   0.0                       0.0                   0.0   \n",
              "3                   0.0                       0.0                   0.0   \n",
              "4                   0.0                       0.0                   0.0   \n",
              "\n",
              "   dst_host_srv_rerror_rate  \n",
              "0                       0.0  \n",
              "1                       0.0  \n",
              "2                       0.0  \n",
              "3                       0.0  \n",
              "4                       0.0  \n",
              "\n",
              "[5 rows x 32 columns]"
            ],
            "text/html": [
              "\n",
              "\n",
              "  <div id=\"df-eafbcd11-fd47-49e3-a1cf-9bc88e484098\">\n",
              "    <div class=\"colab-df-container\">\n",
              "      <div>\n",
              "<style scoped>\n",
              "    .dataframe tbody tr th:only-of-type {\n",
              "        vertical-align: middle;\n",
              "    }\n",
              "\n",
              "    .dataframe tbody tr th {\n",
              "        vertical-align: top;\n",
              "    }\n",
              "\n",
              "    .dataframe thead th {\n",
              "        text-align: right;\n",
              "    }\n",
              "</style>\n",
              "<table border=\"1\" class=\"dataframe\">\n",
              "  <thead>\n",
              "    <tr style=\"text-align: right;\">\n",
              "      <th></th>\n",
              "      <th>Id</th>\n",
              "      <th>duration</th>\n",
              "      <th>protocol_type</th>\n",
              "      <th>service</th>\n",
              "      <th>flag</th>\n",
              "      <th>src_bytes</th>\n",
              "      <th>dst_bytes</th>\n",
              "      <th>hot</th>\n",
              "      <th>logged_in</th>\n",
              "      <th>num_compromised</th>\n",
              "      <th>...</th>\n",
              "      <th>dst_host_count</th>\n",
              "      <th>dst_host_srv_count</th>\n",
              "      <th>dst_host_same_srv_rate</th>\n",
              "      <th>dst_host_diff_srv_rate</th>\n",
              "      <th>dst_host_same_src_port_rate</th>\n",
              "      <th>dst_host_srv_diff_host_rate</th>\n",
              "      <th>dst_host_serror_rate</th>\n",
              "      <th>dst_host_srv_serror_rate</th>\n",
              "      <th>dst_host_rerror_rate</th>\n",
              "      <th>dst_host_srv_rerror_rate</th>\n",
              "    </tr>\n",
              "  </thead>\n",
              "  <tbody>\n",
              "    <tr>\n",
              "      <th>0</th>\n",
              "      <td>1</td>\n",
              "      <td>0</td>\n",
              "      <td>icmp</td>\n",
              "      <td>eco_i</td>\n",
              "      <td>SF</td>\n",
              "      <td>8</td>\n",
              "      <td>0</td>\n",
              "      <td>0</td>\n",
              "      <td>0</td>\n",
              "      <td>0</td>\n",
              "      <td>...</td>\n",
              "      <td>2</td>\n",
              "      <td>255</td>\n",
              "      <td>1.0</td>\n",
              "      <td>0.0</td>\n",
              "      <td>1.0</td>\n",
              "      <td>0.5</td>\n",
              "      <td>0.0</td>\n",
              "      <td>0.0</td>\n",
              "      <td>0.0</td>\n",
              "      <td>0.0</td>\n",
              "    </tr>\n",
              "    <tr>\n",
              "      <th>1</th>\n",
              "      <td>2</td>\n",
              "      <td>0</td>\n",
              "      <td>icmp</td>\n",
              "      <td>eco_i</td>\n",
              "      <td>SF</td>\n",
              "      <td>8</td>\n",
              "      <td>0</td>\n",
              "      <td>0</td>\n",
              "      <td>0</td>\n",
              "      <td>0</td>\n",
              "      <td>...</td>\n",
              "      <td>2</td>\n",
              "      <td>255</td>\n",
              "      <td>1.0</td>\n",
              "      <td>0.0</td>\n",
              "      <td>1.0</td>\n",
              "      <td>0.5</td>\n",
              "      <td>0.0</td>\n",
              "      <td>0.0</td>\n",
              "      <td>0.0</td>\n",
              "      <td>0.0</td>\n",
              "    </tr>\n",
              "    <tr>\n",
              "      <th>2</th>\n",
              "      <td>3</td>\n",
              "      <td>0</td>\n",
              "      <td>icmp</td>\n",
              "      <td>eco_i</td>\n",
              "      <td>SF</td>\n",
              "      <td>8</td>\n",
              "      <td>0</td>\n",
              "      <td>0</td>\n",
              "      <td>0</td>\n",
              "      <td>0</td>\n",
              "      <td>...</td>\n",
              "      <td>2</td>\n",
              "      <td>255</td>\n",
              "      <td>1.0</td>\n",
              "      <td>0.0</td>\n",
              "      <td>1.0</td>\n",
              "      <td>0.5</td>\n",
              "      <td>0.0</td>\n",
              "      <td>0.0</td>\n",
              "      <td>0.0</td>\n",
              "      <td>0.0</td>\n",
              "    </tr>\n",
              "    <tr>\n",
              "      <th>3</th>\n",
              "      <td>4</td>\n",
              "      <td>0</td>\n",
              "      <td>icmp</td>\n",
              "      <td>eco_i</td>\n",
              "      <td>SF</td>\n",
              "      <td>8</td>\n",
              "      <td>0</td>\n",
              "      <td>0</td>\n",
              "      <td>0</td>\n",
              "      <td>0</td>\n",
              "      <td>...</td>\n",
              "      <td>1</td>\n",
              "      <td>117</td>\n",
              "      <td>1.0</td>\n",
              "      <td>0.0</td>\n",
              "      <td>1.0</td>\n",
              "      <td>0.5</td>\n",
              "      <td>0.0</td>\n",
              "      <td>0.0</td>\n",
              "      <td>0.0</td>\n",
              "      <td>0.0</td>\n",
              "    </tr>\n",
              "    <tr>\n",
              "      <th>4</th>\n",
              "      <td>5</td>\n",
              "      <td>0</td>\n",
              "      <td>icmp</td>\n",
              "      <td>eco_i</td>\n",
              "      <td>SF</td>\n",
              "      <td>8</td>\n",
              "      <td>0</td>\n",
              "      <td>0</td>\n",
              "      <td>0</td>\n",
              "      <td>0</td>\n",
              "      <td>...</td>\n",
              "      <td>1</td>\n",
              "      <td>255</td>\n",
              "      <td>1.0</td>\n",
              "      <td>0.0</td>\n",
              "      <td>1.0</td>\n",
              "      <td>0.5</td>\n",
              "      <td>0.0</td>\n",
              "      <td>0.0</td>\n",
              "      <td>0.0</td>\n",
              "      <td>0.0</td>\n",
              "    </tr>\n",
              "  </tbody>\n",
              "</table>\n",
              "<p>5 rows × 32 columns</p>\n",
              "</div>\n",
              "      <button class=\"colab-df-convert\" onclick=\"convertToInteractive('df-eafbcd11-fd47-49e3-a1cf-9bc88e484098')\"\n",
              "              title=\"Convert this dataframe to an interactive table.\"\n",
              "              style=\"display:none;\">\n",
              "\n",
              "  <svg xmlns=\"http://www.w3.org/2000/svg\" height=\"24px\"viewBox=\"0 0 24 24\"\n",
              "       width=\"24px\">\n",
              "    <path d=\"M0 0h24v24H0V0z\" fill=\"none\"/>\n",
              "    <path d=\"M18.56 5.44l.94 2.06.94-2.06 2.06-.94-2.06-.94-.94-2.06-.94 2.06-2.06.94zm-11 1L8.5 8.5l.94-2.06 2.06-.94-2.06-.94L8.5 2.5l-.94 2.06-2.06.94zm10 10l.94 2.06.94-2.06 2.06-.94-2.06-.94-.94-2.06-.94 2.06-2.06.94z\"/><path d=\"M17.41 7.96l-1.37-1.37c-.4-.4-.92-.59-1.43-.59-.52 0-1.04.2-1.43.59L10.3 9.45l-7.72 7.72c-.78.78-.78 2.05 0 2.83L4 21.41c.39.39.9.59 1.41.59.51 0 1.02-.2 1.41-.59l7.78-7.78 2.81-2.81c.8-.78.8-2.07 0-2.86zM5.41 20L4 18.59l7.72-7.72 1.47 1.35L5.41 20z\"/>\n",
              "  </svg>\n",
              "      </button>\n",
              "\n",
              "\n",
              "\n",
              "    <div id=\"df-28ec73fc-e236-467d-b85c-3f4292407441\">\n",
              "      <button class=\"colab-df-quickchart\" onclick=\"quickchart('df-28ec73fc-e236-467d-b85c-3f4292407441')\"\n",
              "              title=\"Suggest charts.\"\n",
              "              style=\"display:none;\">\n",
              "\n",
              "<svg xmlns=\"http://www.w3.org/2000/svg\" height=\"24px\"viewBox=\"0 0 24 24\"\n",
              "     width=\"24px\">\n",
              "    <g>\n",
              "        <path d=\"M19 3H5c-1.1 0-2 .9-2 2v14c0 1.1.9 2 2 2h14c1.1 0 2-.9 2-2V5c0-1.1-.9-2-2-2zM9 17H7v-7h2v7zm4 0h-2V7h2v10zm4 0h-2v-4h2v4z\"/>\n",
              "    </g>\n",
              "</svg>\n",
              "      </button>\n",
              "    </div>\n",
              "\n",
              "<style>\n",
              "  .colab-df-quickchart {\n",
              "    background-color: #E8F0FE;\n",
              "    border: none;\n",
              "    border-radius: 50%;\n",
              "    cursor: pointer;\n",
              "    display: none;\n",
              "    fill: #1967D2;\n",
              "    height: 32px;\n",
              "    padding: 0 0 0 0;\n",
              "    width: 32px;\n",
              "  }\n",
              "\n",
              "  .colab-df-quickchart:hover {\n",
              "    background-color: #E2EBFA;\n",
              "    box-shadow: 0px 1px 2px rgba(60, 64, 67, 0.3), 0px 1px 3px 1px rgba(60, 64, 67, 0.15);\n",
              "    fill: #174EA6;\n",
              "  }\n",
              "\n",
              "  [theme=dark] .colab-df-quickchart {\n",
              "    background-color: #3B4455;\n",
              "    fill: #D2E3FC;\n",
              "  }\n",
              "\n",
              "  [theme=dark] .colab-df-quickchart:hover {\n",
              "    background-color: #434B5C;\n",
              "    box-shadow: 0px 1px 3px 1px rgba(0, 0, 0, 0.15);\n",
              "    filter: drop-shadow(0px 1px 2px rgba(0, 0, 0, 0.3));\n",
              "    fill: #FFFFFF;\n",
              "  }\n",
              "</style>\n",
              "\n",
              "    <script>\n",
              "      async function quickchart(key) {\n",
              "        const containerElement = document.querySelector('#' + key);\n",
              "        const charts = await google.colab.kernel.invokeFunction(\n",
              "            'suggestCharts', [key], {});\n",
              "      }\n",
              "    </script>\n",
              "\n",
              "      <script>\n",
              "\n",
              "function displayQuickchartButton(domScope) {\n",
              "  let quickchartButtonEl =\n",
              "    domScope.querySelector('#df-28ec73fc-e236-467d-b85c-3f4292407441 button.colab-df-quickchart');\n",
              "  quickchartButtonEl.style.display =\n",
              "    google.colab.kernel.accessAllowed ? 'block' : 'none';\n",
              "}\n",
              "\n",
              "        displayQuickchartButton(document);\n",
              "      </script>\n",
              "      <style>\n",
              "    .colab-df-container {\n",
              "      display:flex;\n",
              "      flex-wrap:wrap;\n",
              "      gap: 12px;\n",
              "    }\n",
              "\n",
              "    .colab-df-convert {\n",
              "      background-color: #E8F0FE;\n",
              "      border: none;\n",
              "      border-radius: 50%;\n",
              "      cursor: pointer;\n",
              "      display: none;\n",
              "      fill: #1967D2;\n",
              "      height: 32px;\n",
              "      padding: 0 0 0 0;\n",
              "      width: 32px;\n",
              "    }\n",
              "\n",
              "    .colab-df-convert:hover {\n",
              "      background-color: #E2EBFA;\n",
              "      box-shadow: 0px 1px 2px rgba(60, 64, 67, 0.3), 0px 1px 3px 1px rgba(60, 64, 67, 0.15);\n",
              "      fill: #174EA6;\n",
              "    }\n",
              "\n",
              "    [theme=dark] .colab-df-convert {\n",
              "      background-color: #3B4455;\n",
              "      fill: #D2E3FC;\n",
              "    }\n",
              "\n",
              "    [theme=dark] .colab-df-convert:hover {\n",
              "      background-color: #434B5C;\n",
              "      box-shadow: 0px 1px 3px 1px rgba(0, 0, 0, 0.15);\n",
              "      filter: drop-shadow(0px 1px 2px rgba(0, 0, 0, 0.3));\n",
              "      fill: #FFFFFF;\n",
              "    }\n",
              "  </style>\n",
              "\n",
              "      <script>\n",
              "        const buttonEl =\n",
              "          document.querySelector('#df-eafbcd11-fd47-49e3-a1cf-9bc88e484098 button.colab-df-convert');\n",
              "        buttonEl.style.display =\n",
              "          google.colab.kernel.accessAllowed ? 'block' : 'none';\n",
              "\n",
              "        async function convertToInteractive(key) {\n",
              "          const element = document.querySelector('#df-eafbcd11-fd47-49e3-a1cf-9bc88e484098');\n",
              "          const dataTable =\n",
              "            await google.colab.kernel.invokeFunction('convertToInteractive',\n",
              "                                                     [key], {});\n",
              "          if (!dataTable) return;\n",
              "\n",
              "          const docLinkHtml = 'Like what you see? Visit the ' +\n",
              "            '<a target=\"_blank\" href=https://colab.research.google.com/notebooks/data_table.ipynb>data table notebook</a>'\n",
              "            + ' to learn more about interactive tables.';\n",
              "          element.innerHTML = '';\n",
              "          dataTable['output_type'] = 'display_data';\n",
              "          await google.colab.output.renderOutput(dataTable, element);\n",
              "          const docLink = document.createElement('div');\n",
              "          docLink.innerHTML = docLinkHtml;\n",
              "          element.appendChild(docLink);\n",
              "        }\n",
              "      </script>\n",
              "    </div>\n",
              "  </div>\n"
            ]
          },
          "metadata": {},
          "execution_count": 25
        }
      ],
      "source": [
        "test_data.head()"
      ]
    },
    {
      "cell_type": "code",
      "execution_count": null,
      "metadata": {
        "colab": {
          "base_uri": "https://localhost:8080/"
        },
        "outputId": "c1e255bd-826a-4d09-e21b-9cce6de7ff6b",
        "id": "15HIvkBdR1Th"
      },
      "outputs": [
        {
          "output_type": "execute_result",
          "data": {
            "text/plain": [
              "(5567, 32)"
            ]
          },
          "metadata": {},
          "execution_count": 26
        }
      ],
      "source": [
        "test_data.shape"
      ]
    },
    {
      "cell_type": "code",
      "execution_count": null,
      "metadata": {
        "colab": {
          "base_uri": "https://localhost:8080/",
          "height": 394
        },
        "outputId": "3f55e034-c767-4d7a-e384-7553a13cb904",
        "id": "46jvu0NBR1Ti"
      },
      "outputs": [
        {
          "output_type": "execute_result",
          "data": {
            "text/plain": [
              "                Id      duration     src_bytes     dst_bytes          hot  \\\n",
              "count  5567.000000   5567.000000  5.567000e+03   5567.000000  5567.000000   \n",
              "mean   2784.000000      2.471888  1.304305e+05   1108.469553     0.213580   \n",
              "std    1607.198805    170.816183  9.292980e+06   3466.254112     0.614394   \n",
              "min       1.000000      0.000000  0.000000e+00      0.000000     0.000000   \n",
              "25%    1392.500000      0.000000  0.000000e+00      0.000000     0.000000   \n",
              "50%    2784.000000      0.000000  8.000000e+00      0.000000     0.000000   \n",
              "75%    4175.500000      0.000000  8.000000e+00      0.000000     0.000000   \n",
              "max    5567.000000  12743.000000  6.933756e+08  91229.000000     3.000000   \n",
              "\n",
              "         logged_in  num_compromised     num_root  num_shells  \\\n",
              "count  5567.000000      5567.000000  5567.000000      5567.0   \n",
              "mean      0.153763         0.104904     0.000719         0.0   \n",
              "std       0.360754         0.309955     0.053610         0.0   \n",
              "min       0.000000         0.000000     0.000000         0.0   \n",
              "25%       0.000000         0.000000     0.000000         0.0   \n",
              "50%       0.000000         0.000000     0.000000         0.0   \n",
              "75%       0.000000         0.000000     0.000000         0.0   \n",
              "max       1.000000         4.000000     4.000000         0.0   \n",
              "\n",
              "       num_access_files  ...  dst_host_count  dst_host_srv_count  \\\n",
              "count            5567.0  ...     5567.000000         5567.000000   \n",
              "mean                0.0  ...      139.905515          111.359080   \n",
              "std                 0.0  ...      121.756441          119.908373   \n",
              "min                 0.0  ...        1.000000            1.000000   \n",
              "25%                 0.0  ...        2.000000            1.000000   \n",
              "50%                 0.0  ...      255.000000           22.000000   \n",
              "75%                 0.0  ...      255.000000          255.000000   \n",
              "max                 0.0  ...      255.000000          255.000000   \n",
              "\n",
              "       dst_host_same_srv_rate  dst_host_diff_srv_rate  \\\n",
              "count             5567.000000             5567.000000   \n",
              "mean                 0.515705                0.433113   \n",
              "std                  0.496369                0.479075   \n",
              "min                  0.000000                0.000000   \n",
              "25%                  0.000000                0.000000   \n",
              "50%                  1.000000                0.000000   \n",
              "75%                  1.000000                1.000000   \n",
              "max                  1.000000                1.000000   \n",
              "\n",
              "       dst_host_same_src_port_rate  dst_host_srv_diff_host_rate  \\\n",
              "count                   5567.00000                  5567.000000   \n",
              "mean                       0.50016                     0.215818   \n",
              "std                        0.48350                     0.279295   \n",
              "min                        0.00000                     0.000000   \n",
              "25%                        0.00000                     0.000000   \n",
              "50%                        0.42000                     0.000000   \n",
              "75%                        1.00000                     0.500000   \n",
              "max                        1.00000                     1.000000   \n",
              "\n",
              "       dst_host_serror_rate  dst_host_srv_serror_rate  dst_host_rerror_rate  \\\n",
              "count           5567.000000               5567.000000           5567.000000   \n",
              "mean               0.020296                  0.027850              0.415764   \n",
              "std                0.051660                  0.160138              0.455321   \n",
              "min                0.000000                  0.000000              0.000000   \n",
              "25%                0.000000                  0.000000              0.000000   \n",
              "50%                0.000000                  0.000000              0.050000   \n",
              "75%                0.020000                  0.000000              0.940000   \n",
              "max                0.580000                  1.000000              1.000000   \n",
              "\n",
              "       dst_host_srv_rerror_rate  \n",
              "count               5567.000000  \n",
              "mean                   0.430855  \n",
              "std                    0.489645  \n",
              "min                    0.000000  \n",
              "25%                    0.000000  \n",
              "50%                    0.040000  \n",
              "75%                    1.000000  \n",
              "max                    1.000000  \n",
              "\n",
              "[8 rows x 29 columns]"
            ],
            "text/html": [
              "\n",
              "\n",
              "  <div id=\"df-26714ce7-b6ac-4a17-a011-a16cb629c3e1\">\n",
              "    <div class=\"colab-df-container\">\n",
              "      <div>\n",
              "<style scoped>\n",
              "    .dataframe tbody tr th:only-of-type {\n",
              "        vertical-align: middle;\n",
              "    }\n",
              "\n",
              "    .dataframe tbody tr th {\n",
              "        vertical-align: top;\n",
              "    }\n",
              "\n",
              "    .dataframe thead th {\n",
              "        text-align: right;\n",
              "    }\n",
              "</style>\n",
              "<table border=\"1\" class=\"dataframe\">\n",
              "  <thead>\n",
              "    <tr style=\"text-align: right;\">\n",
              "      <th></th>\n",
              "      <th>Id</th>\n",
              "      <th>duration</th>\n",
              "      <th>src_bytes</th>\n",
              "      <th>dst_bytes</th>\n",
              "      <th>hot</th>\n",
              "      <th>logged_in</th>\n",
              "      <th>num_compromised</th>\n",
              "      <th>num_root</th>\n",
              "      <th>num_shells</th>\n",
              "      <th>num_access_files</th>\n",
              "      <th>...</th>\n",
              "      <th>dst_host_count</th>\n",
              "      <th>dst_host_srv_count</th>\n",
              "      <th>dst_host_same_srv_rate</th>\n",
              "      <th>dst_host_diff_srv_rate</th>\n",
              "      <th>dst_host_same_src_port_rate</th>\n",
              "      <th>dst_host_srv_diff_host_rate</th>\n",
              "      <th>dst_host_serror_rate</th>\n",
              "      <th>dst_host_srv_serror_rate</th>\n",
              "      <th>dst_host_rerror_rate</th>\n",
              "      <th>dst_host_srv_rerror_rate</th>\n",
              "    </tr>\n",
              "  </thead>\n",
              "  <tbody>\n",
              "    <tr>\n",
              "      <th>count</th>\n",
              "      <td>5567.000000</td>\n",
              "      <td>5567.000000</td>\n",
              "      <td>5.567000e+03</td>\n",
              "      <td>5567.000000</td>\n",
              "      <td>5567.000000</td>\n",
              "      <td>5567.000000</td>\n",
              "      <td>5567.000000</td>\n",
              "      <td>5567.000000</td>\n",
              "      <td>5567.0</td>\n",
              "      <td>5567.0</td>\n",
              "      <td>...</td>\n",
              "      <td>5567.000000</td>\n",
              "      <td>5567.000000</td>\n",
              "      <td>5567.000000</td>\n",
              "      <td>5567.000000</td>\n",
              "      <td>5567.00000</td>\n",
              "      <td>5567.000000</td>\n",
              "      <td>5567.000000</td>\n",
              "      <td>5567.000000</td>\n",
              "      <td>5567.000000</td>\n",
              "      <td>5567.000000</td>\n",
              "    </tr>\n",
              "    <tr>\n",
              "      <th>mean</th>\n",
              "      <td>2784.000000</td>\n",
              "      <td>2.471888</td>\n",
              "      <td>1.304305e+05</td>\n",
              "      <td>1108.469553</td>\n",
              "      <td>0.213580</td>\n",
              "      <td>0.153763</td>\n",
              "      <td>0.104904</td>\n",
              "      <td>0.000719</td>\n",
              "      <td>0.0</td>\n",
              "      <td>0.0</td>\n",
              "      <td>...</td>\n",
              "      <td>139.905515</td>\n",
              "      <td>111.359080</td>\n",
              "      <td>0.515705</td>\n",
              "      <td>0.433113</td>\n",
              "      <td>0.50016</td>\n",
              "      <td>0.215818</td>\n",
              "      <td>0.020296</td>\n",
              "      <td>0.027850</td>\n",
              "      <td>0.415764</td>\n",
              "      <td>0.430855</td>\n",
              "    </tr>\n",
              "    <tr>\n",
              "      <th>std</th>\n",
              "      <td>1607.198805</td>\n",
              "      <td>170.816183</td>\n",
              "      <td>9.292980e+06</td>\n",
              "      <td>3466.254112</td>\n",
              "      <td>0.614394</td>\n",
              "      <td>0.360754</td>\n",
              "      <td>0.309955</td>\n",
              "      <td>0.053610</td>\n",
              "      <td>0.0</td>\n",
              "      <td>0.0</td>\n",
              "      <td>...</td>\n",
              "      <td>121.756441</td>\n",
              "      <td>119.908373</td>\n",
              "      <td>0.496369</td>\n",
              "      <td>0.479075</td>\n",
              "      <td>0.48350</td>\n",
              "      <td>0.279295</td>\n",
              "      <td>0.051660</td>\n",
              "      <td>0.160138</td>\n",
              "      <td>0.455321</td>\n",
              "      <td>0.489645</td>\n",
              "    </tr>\n",
              "    <tr>\n",
              "      <th>min</th>\n",
              "      <td>1.000000</td>\n",
              "      <td>0.000000</td>\n",
              "      <td>0.000000e+00</td>\n",
              "      <td>0.000000</td>\n",
              "      <td>0.000000</td>\n",
              "      <td>0.000000</td>\n",
              "      <td>0.000000</td>\n",
              "      <td>0.000000</td>\n",
              "      <td>0.0</td>\n",
              "      <td>0.0</td>\n",
              "      <td>...</td>\n",
              "      <td>1.000000</td>\n",
              "      <td>1.000000</td>\n",
              "      <td>0.000000</td>\n",
              "      <td>0.000000</td>\n",
              "      <td>0.00000</td>\n",
              "      <td>0.000000</td>\n",
              "      <td>0.000000</td>\n",
              "      <td>0.000000</td>\n",
              "      <td>0.000000</td>\n",
              "      <td>0.000000</td>\n",
              "    </tr>\n",
              "    <tr>\n",
              "      <th>25%</th>\n",
              "      <td>1392.500000</td>\n",
              "      <td>0.000000</td>\n",
              "      <td>0.000000e+00</td>\n",
              "      <td>0.000000</td>\n",
              "      <td>0.000000</td>\n",
              "      <td>0.000000</td>\n",
              "      <td>0.000000</td>\n",
              "      <td>0.000000</td>\n",
              "      <td>0.0</td>\n",
              "      <td>0.0</td>\n",
              "      <td>...</td>\n",
              "      <td>2.000000</td>\n",
              "      <td>1.000000</td>\n",
              "      <td>0.000000</td>\n",
              "      <td>0.000000</td>\n",
              "      <td>0.00000</td>\n",
              "      <td>0.000000</td>\n",
              "      <td>0.000000</td>\n",
              "      <td>0.000000</td>\n",
              "      <td>0.000000</td>\n",
              "      <td>0.000000</td>\n",
              "    </tr>\n",
              "    <tr>\n",
              "      <th>50%</th>\n",
              "      <td>2784.000000</td>\n",
              "      <td>0.000000</td>\n",
              "      <td>8.000000e+00</td>\n",
              "      <td>0.000000</td>\n",
              "      <td>0.000000</td>\n",
              "      <td>0.000000</td>\n",
              "      <td>0.000000</td>\n",
              "      <td>0.000000</td>\n",
              "      <td>0.0</td>\n",
              "      <td>0.0</td>\n",
              "      <td>...</td>\n",
              "      <td>255.000000</td>\n",
              "      <td>22.000000</td>\n",
              "      <td>1.000000</td>\n",
              "      <td>0.000000</td>\n",
              "      <td>0.42000</td>\n",
              "      <td>0.000000</td>\n",
              "      <td>0.000000</td>\n",
              "      <td>0.000000</td>\n",
              "      <td>0.050000</td>\n",
              "      <td>0.040000</td>\n",
              "    </tr>\n",
              "    <tr>\n",
              "      <th>75%</th>\n",
              "      <td>4175.500000</td>\n",
              "      <td>0.000000</td>\n",
              "      <td>8.000000e+00</td>\n",
              "      <td>0.000000</td>\n",
              "      <td>0.000000</td>\n",
              "      <td>0.000000</td>\n",
              "      <td>0.000000</td>\n",
              "      <td>0.000000</td>\n",
              "      <td>0.0</td>\n",
              "      <td>0.0</td>\n",
              "      <td>...</td>\n",
              "      <td>255.000000</td>\n",
              "      <td>255.000000</td>\n",
              "      <td>1.000000</td>\n",
              "      <td>1.000000</td>\n",
              "      <td>1.00000</td>\n",
              "      <td>0.500000</td>\n",
              "      <td>0.020000</td>\n",
              "      <td>0.000000</td>\n",
              "      <td>0.940000</td>\n",
              "      <td>1.000000</td>\n",
              "    </tr>\n",
              "    <tr>\n",
              "      <th>max</th>\n",
              "      <td>5567.000000</td>\n",
              "      <td>12743.000000</td>\n",
              "      <td>6.933756e+08</td>\n",
              "      <td>91229.000000</td>\n",
              "      <td>3.000000</td>\n",
              "      <td>1.000000</td>\n",
              "      <td>4.000000</td>\n",
              "      <td>4.000000</td>\n",
              "      <td>0.0</td>\n",
              "      <td>0.0</td>\n",
              "      <td>...</td>\n",
              "      <td>255.000000</td>\n",
              "      <td>255.000000</td>\n",
              "      <td>1.000000</td>\n",
              "      <td>1.000000</td>\n",
              "      <td>1.00000</td>\n",
              "      <td>1.000000</td>\n",
              "      <td>0.580000</td>\n",
              "      <td>1.000000</td>\n",
              "      <td>1.000000</td>\n",
              "      <td>1.000000</td>\n",
              "    </tr>\n",
              "  </tbody>\n",
              "</table>\n",
              "<p>8 rows × 29 columns</p>\n",
              "</div>\n",
              "      <button class=\"colab-df-convert\" onclick=\"convertToInteractive('df-26714ce7-b6ac-4a17-a011-a16cb629c3e1')\"\n",
              "              title=\"Convert this dataframe to an interactive table.\"\n",
              "              style=\"display:none;\">\n",
              "\n",
              "  <svg xmlns=\"http://www.w3.org/2000/svg\" height=\"24px\"viewBox=\"0 0 24 24\"\n",
              "       width=\"24px\">\n",
              "    <path d=\"M0 0h24v24H0V0z\" fill=\"none\"/>\n",
              "    <path d=\"M18.56 5.44l.94 2.06.94-2.06 2.06-.94-2.06-.94-.94-2.06-.94 2.06-2.06.94zm-11 1L8.5 8.5l.94-2.06 2.06-.94-2.06-.94L8.5 2.5l-.94 2.06-2.06.94zm10 10l.94 2.06.94-2.06 2.06-.94-2.06-.94-.94-2.06-.94 2.06-2.06.94z\"/><path d=\"M17.41 7.96l-1.37-1.37c-.4-.4-.92-.59-1.43-.59-.52 0-1.04.2-1.43.59L10.3 9.45l-7.72 7.72c-.78.78-.78 2.05 0 2.83L4 21.41c.39.39.9.59 1.41.59.51 0 1.02-.2 1.41-.59l7.78-7.78 2.81-2.81c.8-.78.8-2.07 0-2.86zM5.41 20L4 18.59l7.72-7.72 1.47 1.35L5.41 20z\"/>\n",
              "  </svg>\n",
              "      </button>\n",
              "\n",
              "\n",
              "\n",
              "    <div id=\"df-a9836cf2-501a-47dd-b8ce-a65b4b256f38\">\n",
              "      <button class=\"colab-df-quickchart\" onclick=\"quickchart('df-a9836cf2-501a-47dd-b8ce-a65b4b256f38')\"\n",
              "              title=\"Suggest charts.\"\n",
              "              style=\"display:none;\">\n",
              "\n",
              "<svg xmlns=\"http://www.w3.org/2000/svg\" height=\"24px\"viewBox=\"0 0 24 24\"\n",
              "     width=\"24px\">\n",
              "    <g>\n",
              "        <path d=\"M19 3H5c-1.1 0-2 .9-2 2v14c0 1.1.9 2 2 2h14c1.1 0 2-.9 2-2V5c0-1.1-.9-2-2-2zM9 17H7v-7h2v7zm4 0h-2V7h2v10zm4 0h-2v-4h2v4z\"/>\n",
              "    </g>\n",
              "</svg>\n",
              "      </button>\n",
              "    </div>\n",
              "\n",
              "<style>\n",
              "  .colab-df-quickchart {\n",
              "    background-color: #E8F0FE;\n",
              "    border: none;\n",
              "    border-radius: 50%;\n",
              "    cursor: pointer;\n",
              "    display: none;\n",
              "    fill: #1967D2;\n",
              "    height: 32px;\n",
              "    padding: 0 0 0 0;\n",
              "    width: 32px;\n",
              "  }\n",
              "\n",
              "  .colab-df-quickchart:hover {\n",
              "    background-color: #E2EBFA;\n",
              "    box-shadow: 0px 1px 2px rgba(60, 64, 67, 0.3), 0px 1px 3px 1px rgba(60, 64, 67, 0.15);\n",
              "    fill: #174EA6;\n",
              "  }\n",
              "\n",
              "  [theme=dark] .colab-df-quickchart {\n",
              "    background-color: #3B4455;\n",
              "    fill: #D2E3FC;\n",
              "  }\n",
              "\n",
              "  [theme=dark] .colab-df-quickchart:hover {\n",
              "    background-color: #434B5C;\n",
              "    box-shadow: 0px 1px 3px 1px rgba(0, 0, 0, 0.15);\n",
              "    filter: drop-shadow(0px 1px 2px rgba(0, 0, 0, 0.3));\n",
              "    fill: #FFFFFF;\n",
              "  }\n",
              "</style>\n",
              "\n",
              "    <script>\n",
              "      async function quickchart(key) {\n",
              "        const containerElement = document.querySelector('#' + key);\n",
              "        const charts = await google.colab.kernel.invokeFunction(\n",
              "            'suggestCharts', [key], {});\n",
              "      }\n",
              "    </script>\n",
              "\n",
              "      <script>\n",
              "\n",
              "function displayQuickchartButton(domScope) {\n",
              "  let quickchartButtonEl =\n",
              "    domScope.querySelector('#df-a9836cf2-501a-47dd-b8ce-a65b4b256f38 button.colab-df-quickchart');\n",
              "  quickchartButtonEl.style.display =\n",
              "    google.colab.kernel.accessAllowed ? 'block' : 'none';\n",
              "}\n",
              "\n",
              "        displayQuickchartButton(document);\n",
              "      </script>\n",
              "      <style>\n",
              "    .colab-df-container {\n",
              "      display:flex;\n",
              "      flex-wrap:wrap;\n",
              "      gap: 12px;\n",
              "    }\n",
              "\n",
              "    .colab-df-convert {\n",
              "      background-color: #E8F0FE;\n",
              "      border: none;\n",
              "      border-radius: 50%;\n",
              "      cursor: pointer;\n",
              "      display: none;\n",
              "      fill: #1967D2;\n",
              "      height: 32px;\n",
              "      padding: 0 0 0 0;\n",
              "      width: 32px;\n",
              "    }\n",
              "\n",
              "    .colab-df-convert:hover {\n",
              "      background-color: #E2EBFA;\n",
              "      box-shadow: 0px 1px 2px rgba(60, 64, 67, 0.3), 0px 1px 3px 1px rgba(60, 64, 67, 0.15);\n",
              "      fill: #174EA6;\n",
              "    }\n",
              "\n",
              "    [theme=dark] .colab-df-convert {\n",
              "      background-color: #3B4455;\n",
              "      fill: #D2E3FC;\n",
              "    }\n",
              "\n",
              "    [theme=dark] .colab-df-convert:hover {\n",
              "      background-color: #434B5C;\n",
              "      box-shadow: 0px 1px 3px 1px rgba(0, 0, 0, 0.15);\n",
              "      filter: drop-shadow(0px 1px 2px rgba(0, 0, 0, 0.3));\n",
              "      fill: #FFFFFF;\n",
              "    }\n",
              "  </style>\n",
              "\n",
              "      <script>\n",
              "        const buttonEl =\n",
              "          document.querySelector('#df-26714ce7-b6ac-4a17-a011-a16cb629c3e1 button.colab-df-convert');\n",
              "        buttonEl.style.display =\n",
              "          google.colab.kernel.accessAllowed ? 'block' : 'none';\n",
              "\n",
              "        async function convertToInteractive(key) {\n",
              "          const element = document.querySelector('#df-26714ce7-b6ac-4a17-a011-a16cb629c3e1');\n",
              "          const dataTable =\n",
              "            await google.colab.kernel.invokeFunction('convertToInteractive',\n",
              "                                                     [key], {});\n",
              "          if (!dataTable) return;\n",
              "\n",
              "          const docLinkHtml = 'Like what you see? Visit the ' +\n",
              "            '<a target=\"_blank\" href=https://colab.research.google.com/notebooks/data_table.ipynb>data table notebook</a>'\n",
              "            + ' to learn more about interactive tables.';\n",
              "          element.innerHTML = '';\n",
              "          dataTable['output_type'] = 'display_data';\n",
              "          await google.colab.output.renderOutput(dataTable, element);\n",
              "          const docLink = document.createElement('div');\n",
              "          docLink.innerHTML = docLinkHtml;\n",
              "          element.appendChild(docLink);\n",
              "        }\n",
              "      </script>\n",
              "    </div>\n",
              "  </div>\n"
            ]
          },
          "metadata": {},
          "execution_count": 27
        }
      ],
      "source": [
        "test_data.describe()"
      ]
    },
    {
      "cell_type": "code",
      "execution_count": null,
      "metadata": {
        "colab": {
          "base_uri": "https://localhost:8080/"
        },
        "outputId": "40a7ad2c-724f-4232-8aee-b98e752d4827",
        "id": "1NdlP885R1Tj"
      },
      "outputs": [
        {
          "output_type": "stream",
          "name": "stdout",
          "text": [
            "<class 'pandas.core.frame.DataFrame'>\n",
            "RangeIndex: 5567 entries, 0 to 5566\n",
            "Data columns (total 32 columns):\n",
            " #   Column                       Non-Null Count  Dtype  \n",
            "---  ------                       --------------  -----  \n",
            " 0   Id                           5567 non-null   int64  \n",
            " 1   duration                     5567 non-null   int64  \n",
            " 2   protocol_type                5567 non-null   object \n",
            " 3   service                      5567 non-null   object \n",
            " 4   flag                         5566 non-null   object \n",
            " 5   src_bytes                    5567 non-null   int64  \n",
            " 6   dst_bytes                    5567 non-null   int64  \n",
            " 7   hot                          5567 non-null   int64  \n",
            " 8   logged_in                    5567 non-null   int64  \n",
            " 9   num_compromised              5567 non-null   int64  \n",
            " 10  num_root                     5567 non-null   int64  \n",
            " 11  num_shells                   5567 non-null   int64  \n",
            " 12  num_access_files             5567 non-null   int64  \n",
            " 13  count                        5567 non-null   int64  \n",
            " 14  srv_count                    5567 non-null   int64  \n",
            " 15  serror_rate                  5567 non-null   float64\n",
            " 16  srv_serror_rate              5567 non-null   float64\n",
            " 17  rerror_rate                  5567 non-null   float64\n",
            " 18  srv_rerror_rate              5567 non-null   float64\n",
            " 19  same_srv_rate                5567 non-null   float64\n",
            " 20  diff_srv_rate                5567 non-null   float64\n",
            " 21  srv_diff_host_rate           5567 non-null   float64\n",
            " 22  dst_host_count               5567 non-null   int64  \n",
            " 23  dst_host_srv_count           5567 non-null   int64  \n",
            " 24  dst_host_same_srv_rate       5567 non-null   float64\n",
            " 25  dst_host_diff_srv_rate       5567 non-null   float64\n",
            " 26  dst_host_same_src_port_rate  5567 non-null   float64\n",
            " 27  dst_host_srv_diff_host_rate  5567 non-null   float64\n",
            " 28  dst_host_serror_rate         5567 non-null   float64\n",
            " 29  dst_host_srv_serror_rate     5567 non-null   float64\n",
            " 30  dst_host_rerror_rate         5567 non-null   float64\n",
            " 31  dst_host_srv_rerror_rate     5567 non-null   float64\n",
            "dtypes: float64(15), int64(14), object(3)\n",
            "memory usage: 1.4+ MB\n"
          ]
        }
      ],
      "source": [
        "test_data.info()"
      ]
    },
    {
      "cell_type": "code",
      "source": [
        "test_data['protocol_type'].nunique()"
      ],
      "metadata": {
        "colab": {
          "base_uri": "https://localhost:8080/"
        },
        "outputId": "46061f40-e439-4b2e-86df-1257d5707126",
        "id": "YzvxplS2R1Tj"
      },
      "execution_count": null,
      "outputs": [
        {
          "output_type": "execute_result",
          "data": {
            "text/plain": [
              "3"
            ]
          },
          "metadata": {},
          "execution_count": 29
        }
      ]
    },
    {
      "cell_type": "code",
      "source": [
        "test_data['service'].nunique()\n"
      ],
      "metadata": {
        "colab": {
          "base_uri": "https://localhost:8080/"
        },
        "outputId": "367e4b97-fe79-4f97-9d14-e21f0d54d1cb",
        "id": "kGTzg7VtR1Tj"
      },
      "execution_count": null,
      "outputs": [
        {
          "output_type": "execute_result",
          "data": {
            "text/plain": [
              "51"
            ]
          },
          "metadata": {},
          "execution_count": 30
        }
      ]
    },
    {
      "cell_type": "code",
      "source": [
        "test_data['flag'].nunique()\n"
      ],
      "metadata": {
        "colab": {
          "base_uri": "https://localhost:8080/"
        },
        "outputId": "48377bcf-38db-4fa1-f0a9-92810da9001b",
        "id": "GMWYdDaWR1Tk"
      },
      "execution_count": null,
      "outputs": [
        {
          "output_type": "execute_result",
          "data": {
            "text/plain": [
              "8"
            ]
          },
          "metadata": {},
          "execution_count": 31
        }
      ]
    },
    {
      "cell_type": "code",
      "source": [
        "test_data['flag'][4799:4805]"
      ],
      "metadata": {
        "colab": {
          "base_uri": "https://localhost:8080/"
        },
        "id": "eKpK8LwYVxX5",
        "outputId": "b6c7c6c6-ee79-491f-c791-238b1ba970df"
      },
      "execution_count": null,
      "outputs": [
        {
          "output_type": "execute_result",
          "data": {
            "text/plain": [
              "4799    NaN\n",
              "4800    REJ\n",
              "4801     S0\n",
              "4802    REJ\n",
              "4803     SF\n",
              "4804    REJ\n",
              "Name: flag, dtype: object"
            ]
          },
          "metadata": {},
          "execution_count": 32
        }
      ]
    },
    {
      "cell_type": "code",
      "source": [
        "test_data.loc[test_data.index[4799], 'flag'] = \"REJ\""
      ],
      "metadata": {
        "id": "SQLd5yhQXyR-"
      },
      "execution_count": null,
      "outputs": []
    },
    {
      "cell_type": "code",
      "source": [
        "test_data['flag'][4799:4805]\n"
      ],
      "metadata": {
        "colab": {
          "base_uri": "https://localhost:8080/"
        },
        "id": "i_AlsnhkYbn7",
        "outputId": "c149508d-095e-4069-c5b0-fc4496e85b07"
      },
      "execution_count": null,
      "outputs": [
        {
          "output_type": "execute_result",
          "data": {
            "text/plain": [
              "4799    REJ\n",
              "4800    REJ\n",
              "4801     S0\n",
              "4802    REJ\n",
              "4803     SF\n",
              "4804    REJ\n",
              "Name: flag, dtype: object"
            ]
          },
          "metadata": {},
          "execution_count": 34
        }
      ]
    },
    {
      "cell_type": "markdown",
      "source": [
        "#OneHot Encoding of Independent Variables\n",
        "\n"
      ],
      "metadata": {
        "id": "GbcAL6bfR1Tk"
      }
    },
    {
      "cell_type": "code",
      "source": [
        "# checking features\n",
        "cat = test_data.select_dtypes(include='O').columns.tolist()"
      ],
      "metadata": {
        "id": "AjoCOWemR1Tk"
      },
      "execution_count": null,
      "outputs": []
    },
    {
      "cell_type": "code",
      "source": [
        "cat"
      ],
      "metadata": {
        "colab": {
          "base_uri": "https://localhost:8080/"
        },
        "outputId": "f041a19e-4ea0-4d17-eb6f-67ba36a64190",
        "id": "0eTWtHoOR1Tl"
      },
      "execution_count": null,
      "outputs": [
        {
          "output_type": "execute_result",
          "data": {
            "text/plain": [
              "['protocol_type', 'service', 'flag']"
            ]
          },
          "metadata": {},
          "execution_count": 36
        }
      ]
    },
    {
      "cell_type": "code",
      "source": [
        "# creating instance of labelencoder\n",
        "labelencoder = LabelEncoder()\n",
        "# Assigning numerical values and storing in another column\n",
        "test_data['protocol_type'] = labelencoder.fit_transform(test_data['protocol_type'])\n",
        "test_data['service'] = labelencoder.fit_transform(test_data['service'])\n",
        "test_data['flag'] = labelencoder.fit_transform(test_data['flag'])"
      ],
      "metadata": {
        "id": "KwnFJeYfI_Ml"
      },
      "execution_count": null,
      "outputs": []
    },
    {
      "cell_type": "code",
      "source": [
        "# # creating instance of one-hot-encoder\n",
        "# enc = OneHotEncoder(handle_unknown='ignore',categories='auto')\n",
        "# feature_arr = enc.fit_transform(test_data[cat]).toarray()\n",
        "# feature_labels = enc.get_feature_names_out()\n",
        "# feature_labels = np.array(feature_labels).ravel()\n",
        "# features = pd.DataFrame(feature_arr, columns=feature_labels)\n",
        "# print(feature_labels)\n",
        "# # now concatenate the original data and the encoded data using pandas\n",
        "# data1 = pd.concat([test_data, features], axis=1)\n",
        "# data1"
      ],
      "metadata": {
        "id": "1gAp_vDDR1Tl"
      },
      "execution_count": null,
      "outputs": []
    },
    {
      "cell_type": "code",
      "source": [
        "data1=test_data.copy()\n",
        "data1.columns"
      ],
      "metadata": {
        "colab": {
          "base_uri": "https://localhost:8080/"
        },
        "outputId": "4b0a7560-0d0b-4f4f-9fb6-b98d05f63bcf",
        "id": "c4Ywb_93R1Tl"
      },
      "execution_count": null,
      "outputs": [
        {
          "output_type": "execute_result",
          "data": {
            "text/plain": [
              "Index(['Id', 'duration', 'protocol_type', 'service', 'flag', 'src_bytes',\n",
              "       'dst_bytes', 'hot', 'logged_in', 'num_compromised', 'num_root',\n",
              "       'num_shells', 'num_access_files', 'count', 'srv_count', 'serror_rate',\n",
              "       'srv_serror_rate', 'rerror_rate', 'srv_rerror_rate', 'same_srv_rate',\n",
              "       'diff_srv_rate', 'srv_diff_host_rate', 'dst_host_count',\n",
              "       'dst_host_srv_count', 'dst_host_same_srv_rate',\n",
              "       'dst_host_diff_srv_rate', 'dst_host_same_src_port_rate',\n",
              "       'dst_host_srv_diff_host_rate', 'dst_host_serror_rate',\n",
              "       'dst_host_srv_serror_rate', 'dst_host_rerror_rate',\n",
              "       'dst_host_srv_rerror_rate'],\n",
              "      dtype='object')"
            ]
          },
          "metadata": {},
          "execution_count": 39
        }
      ]
    },
    {
      "cell_type": "code",
      "source": [
        "# data1.drop(cat,axis=1,inplace=True)"
      ],
      "metadata": {
        "id": "AlcOpp4KR1Tm"
      },
      "execution_count": null,
      "outputs": []
    },
    {
      "cell_type": "code",
      "source": [
        "data1.drop('Id',axis=1,inplace=True)"
      ],
      "metadata": {
        "id": "13PasRdBYyIf"
      },
      "execution_count": null,
      "outputs": []
    },
    {
      "cell_type": "code",
      "source": [
        "data1.info()"
      ],
      "metadata": {
        "colab": {
          "base_uri": "https://localhost:8080/"
        },
        "outputId": "c28d86b0-4d59-45ad-9b9e-cb5f24032cbd",
        "id": "goxMX3cdR1Tm"
      },
      "execution_count": null,
      "outputs": [
        {
          "output_type": "stream",
          "name": "stdout",
          "text": [
            "<class 'pandas.core.frame.DataFrame'>\n",
            "RangeIndex: 5567 entries, 0 to 5566\n",
            "Data columns (total 31 columns):\n",
            " #   Column                       Non-Null Count  Dtype  \n",
            "---  ------                       --------------  -----  \n",
            " 0   duration                     5567 non-null   int64  \n",
            " 1   protocol_type                5567 non-null   int64  \n",
            " 2   service                      5567 non-null   int64  \n",
            " 3   flag                         5567 non-null   int64  \n",
            " 4   src_bytes                    5567 non-null   int64  \n",
            " 5   dst_bytes                    5567 non-null   int64  \n",
            " 6   hot                          5567 non-null   int64  \n",
            " 7   logged_in                    5567 non-null   int64  \n",
            " 8   num_compromised              5567 non-null   int64  \n",
            " 9   num_root                     5567 non-null   int64  \n",
            " 10  num_shells                   5567 non-null   int64  \n",
            " 11  num_access_files             5567 non-null   int64  \n",
            " 12  count                        5567 non-null   int64  \n",
            " 13  srv_count                    5567 non-null   int64  \n",
            " 14  serror_rate                  5567 non-null   float64\n",
            " 15  srv_serror_rate              5567 non-null   float64\n",
            " 16  rerror_rate                  5567 non-null   float64\n",
            " 17  srv_rerror_rate              5567 non-null   float64\n",
            " 18  same_srv_rate                5567 non-null   float64\n",
            " 19  diff_srv_rate                5567 non-null   float64\n",
            " 20  srv_diff_host_rate           5567 non-null   float64\n",
            " 21  dst_host_count               5567 non-null   int64  \n",
            " 22  dst_host_srv_count           5567 non-null   int64  \n",
            " 23  dst_host_same_srv_rate       5567 non-null   float64\n",
            " 24  dst_host_diff_srv_rate       5567 non-null   float64\n",
            " 25  dst_host_same_src_port_rate  5567 non-null   float64\n",
            " 26  dst_host_srv_diff_host_rate  5567 non-null   float64\n",
            " 27  dst_host_serror_rate         5567 non-null   float64\n",
            " 28  dst_host_srv_serror_rate     5567 non-null   float64\n",
            " 29  dst_host_rerror_rate         5567 non-null   float64\n",
            " 30  dst_host_srv_rerror_rate     5567 non-null   float64\n",
            "dtypes: float64(15), int64(16)\n",
            "memory usage: 1.3 MB\n"
          ]
        }
      ]
    },
    {
      "cell_type": "markdown",
      "source": [
        "# Train and Test data Columns Comparisons"
      ],
      "metadata": {
        "id": "EtVZoK1Ifreo"
      }
    },
    {
      "cell_type": "code",
      "source": [
        "df['service'].nunique()"
      ],
      "metadata": {
        "colab": {
          "base_uri": "https://localhost:8080/"
        },
        "id": "jnswmQTHaG_I",
        "outputId": "93268a38-87ea-41c5-8cfa-55a8df700698"
      },
      "execution_count": null,
      "outputs": [
        {
          "output_type": "execute_result",
          "data": {
            "text/plain": [
              "61"
            ]
          },
          "metadata": {},
          "execution_count": 43
        }
      ]
    },
    {
      "cell_type": "code",
      "source": [
        "test_data['service'].nunique()\n"
      ],
      "metadata": {
        "colab": {
          "base_uri": "https://localhost:8080/"
        },
        "id": "GOAdf5rnb_NR",
        "outputId": "80c93840-d78a-4838-b17a-8eca82164348"
      },
      "execution_count": null,
      "outputs": [
        {
          "output_type": "execute_result",
          "data": {
            "text/plain": [
              "51"
            ]
          },
          "metadata": {},
          "execution_count": 44
        }
      ]
    },
    {
      "cell_type": "code",
      "source": [
        "df['service'].value_counts().nlargest(20)"
      ],
      "metadata": {
        "colab": {
          "base_uri": "https://localhost:8080/"
        },
        "id": "nGWCXH_RxwwC",
        "outputId": "0ae5e339-2a51-490e-d421-dd84b1a3f190"
      },
      "execution_count": null,
      "outputs": [
        {
          "output_type": "execute_result",
          "data": {
            "text/plain": [
              "eco_i         4663\n",
              "other         3400\n",
              "private       2592\n",
              "http          1971\n",
              "ftp_data        33\n",
              "finger          22\n",
              "remote_job      18\n",
              "gopher          16\n",
              "ssh             16\n",
              "ftp             16\n",
              "ctf             15\n",
              "name            15\n",
              "mtp             15\n",
              "link            15\n",
              "rje             15\n",
              "telnet          14\n",
              "domain          14\n",
              "time            13\n",
              "smtp            13\n",
              "whois           13\n",
              "Name: service, dtype: int64"
            ]
          },
          "metadata": {},
          "execution_count": 45
        }
      ]
    },
    {
      "cell_type": "code",
      "source": [
        "tr=df['service'].value_counts().nlargest(20).index.tolist()"
      ],
      "metadata": {
        "id": "SGxv7YgBcoQb"
      },
      "execution_count": null,
      "outputs": []
    },
    {
      "cell_type": "code",
      "source": [
        "t=test_data['service'].value_counts().nlargest(20).index.tolist()"
      ],
      "metadata": {
        "id": "XrLQBpLPcoEd"
      },
      "execution_count": null,
      "outputs": []
    },
    {
      "cell_type": "code",
      "source": [
        "set(tr)^set(t)"
      ],
      "metadata": {
        "colab": {
          "base_uri": "https://localhost:8080/"
        },
        "id": "C4ZNbAT6eJIb",
        "outputId": "2056b5d6-3cc2-4d8e-9617-8990292d0da9"
      },
      "execution_count": null,
      "outputs": [
        {
          "output_type": "execute_result",
          "data": {
            "text/plain": [
              "{10,\n",
              " 11,\n",
              " 12,\n",
              " 14,\n",
              " 15,\n",
              " 16,\n",
              " 17,\n",
              " 20,\n",
              " 23,\n",
              " 25,\n",
              " 26,\n",
              " 32,\n",
              " 36,\n",
              " 38,\n",
              " 39,\n",
              " 45,\n",
              " 46,\n",
              " 5,\n",
              " 50,\n",
              " 8,\n",
              " 'ctf',\n",
              " 'domain',\n",
              " 'eco_i',\n",
              " 'finger',\n",
              " 'ftp',\n",
              " 'ftp_data',\n",
              " 'gopher',\n",
              " 'http',\n",
              " 'link',\n",
              " 'mtp',\n",
              " 'name',\n",
              " 'other',\n",
              " 'private',\n",
              " 'remote_job',\n",
              " 'rje',\n",
              " 'smtp',\n",
              " 'ssh',\n",
              " 'telnet',\n",
              " 'time',\n",
              " 'whois'}"
            ]
          },
          "metadata": {},
          "execution_count": 48
        }
      ]
    },
    {
      "cell_type": "code",
      "source": [
        "set(tr).difference(t)"
      ],
      "metadata": {
        "colab": {
          "base_uri": "https://localhost:8080/"
        },
        "id": "hCpIgPVfeOpq",
        "outputId": "94bb4752-56f3-4f67-c2ed-2c0bd56605aa"
      },
      "execution_count": null,
      "outputs": [
        {
          "output_type": "execute_result",
          "data": {
            "text/plain": [
              "{'ctf',\n",
              " 'domain',\n",
              " 'eco_i',\n",
              " 'finger',\n",
              " 'ftp',\n",
              " 'ftp_data',\n",
              " 'gopher',\n",
              " 'http',\n",
              " 'link',\n",
              " 'mtp',\n",
              " 'name',\n",
              " 'other',\n",
              " 'private',\n",
              " 'remote_job',\n",
              " 'rje',\n",
              " 'smtp',\n",
              " 'ssh',\n",
              " 'telnet',\n",
              " 'time',\n",
              " 'whois'}"
            ]
          },
          "metadata": {},
          "execution_count": 49
        }
      ]
    },
    {
      "cell_type": "code",
      "source": [
        "set(t).difference(tr)\n"
      ],
      "metadata": {
        "colab": {
          "base_uri": "https://localhost:8080/"
        },
        "id": "20jzgiKifg-q",
        "outputId": "9c59141b-19ba-4ef4-b50d-d4e9a95a9a49"
      },
      "execution_count": null,
      "outputs": [
        {
          "output_type": "execute_result",
          "data": {
            "text/plain": [
              "{5, 8, 10, 11, 12, 14, 15, 16, 17, 20, 23, 25, 26, 32, 36, 38, 39, 45, 46, 50}"
            ]
          },
          "metadata": {},
          "execution_count": 50
        }
      ]
    },
    {
      "cell_type": "code",
      "source": [
        "# X.drop(['flag_S1'],axis=1,inplace=True)#'service_IRC','service_auth','service_courier','service_exec','service_http_2784','service_imap4','service_klogin','service_kshell','service_ldap','service_nntp','service_pm_dump','service_shell'],axis=1,inplace=True)"
      ],
      "metadata": {
        "id": "iK5OtFZrfj3z"
      },
      "execution_count": null,
      "outputs": []
    },
    {
      "cell_type": "code",
      "source": [
        "data1.drop(['hot','srv_serror_rate','dst_host_srv_serror_rate'],axis=1,inplace=True)#'service_aol','service_harvest'"
      ],
      "metadata": {
        "id": "104-xQo_gv6o"
      },
      "execution_count": null,
      "outputs": []
    },
    {
      "cell_type": "code",
      "source": [
        "set(X.columns)^set(data1.columns)"
      ],
      "metadata": {
        "colab": {
          "base_uri": "https://localhost:8080/"
        },
        "id": "S7HwFwlTp5iY",
        "outputId": "8b55d165-26a8-485c-c8b5-41195d7f5acd"
      },
      "execution_count": null,
      "outputs": [
        {
          "output_type": "execute_result",
          "data": {
            "text/plain": [
              "set()"
            ]
          },
          "metadata": {},
          "execution_count": 54
        }
      ]
    },
    {
      "cell_type": "code",
      "source": [
        "set(X.columns).difference(data1.columns)\n"
      ],
      "metadata": {
        "colab": {
          "base_uri": "https://localhost:8080/"
        },
        "id": "gM_taTP1qQOd",
        "outputId": "c98fe6bc-c680-4f71-99e9-e8687035be04"
      },
      "execution_count": null,
      "outputs": [
        {
          "output_type": "execute_result",
          "data": {
            "text/plain": [
              "set()"
            ]
          },
          "metadata": {},
          "execution_count": 55
        }
      ]
    },
    {
      "cell_type": "code",
      "source": [
        "set(data1.columns).difference(X)\n"
      ],
      "metadata": {
        "colab": {
          "base_uri": "https://localhost:8080/"
        },
        "id": "6jW1KEyiqQ2A",
        "outputId": "5712f7ce-d213-42be-8107-6c21f747e6d8"
      },
      "execution_count": null,
      "outputs": [
        {
          "output_type": "execute_result",
          "data": {
            "text/plain": [
              "set()"
            ]
          },
          "metadata": {},
          "execution_count": 56
        }
      ]
    },
    {
      "cell_type": "markdown",
      "metadata": {
        "id": "CwmlFaektsCL"
      },
      "source": [
        "# Train and Test Split\n",
        "\n"
      ]
    },
    {
      "cell_type": "code",
      "execution_count": null,
      "metadata": {
        "id": "IgYLbVk_Qcqa"
      },
      "outputs": [],
      "source": [
        "X_train, X_test, y_train, y_test = train_test_split(X, y, test_size=0.8,stratify=y,random_state=2023)"
      ]
    },
    {
      "cell_type": "code",
      "execution_count": null,
      "metadata": {
        "colab": {
          "base_uri": "https://localhost:8080/"
        },
        "id": "OgwFJNj4GS6G",
        "outputId": "018771ae-c55a-4df7-967f-b27982aa785b"
      },
      "outputs": [
        {
          "output_type": "execute_result",
          "data": {
            "text/plain": [
              "(2597, 28)"
            ]
          },
          "metadata": {},
          "execution_count": 58
        }
      ],
      "source": [
        "X_train.shape"
      ]
    },
    {
      "cell_type": "code",
      "execution_count": null,
      "metadata": {
        "id": "C_9z9_kZs0Hz"
      },
      "outputs": [],
      "source": [
        "scaler = StandardScaler().fit(X_train)\n",
        "X_train = scaler.transform(X_train)\n",
        "X_test = scaler.transform(X_test)"
      ]
    },
    {
      "cell_type": "markdown",
      "source": [
        "#Standard Scaler"
      ],
      "metadata": {
        "id": "e4Yl6MRvdfhs"
      }
    },
    {
      "cell_type": "code",
      "source": [
        "scaler = StandardScaler().fit(data1)\n",
        "scaled_test_data = scaler.transform(data1)"
      ],
      "metadata": {
        "id": "ZiZY809EdbvT"
      },
      "execution_count": null,
      "outputs": []
    },
    {
      "cell_type": "markdown",
      "metadata": {
        "id": "Fr16AzpqtECh"
      },
      "source": [
        "#Model Building\n"
      ]
    },
    {
      "cell_type": "markdown",
      "metadata": {
        "id": "IVVBMkkUunvk"
      },
      "source": [
        "### Train the model"
      ]
    },
    {
      "cell_type": "code",
      "source": [
        "# How to Import the DecisionTreeClassifer Class\n",
        "from sklearn.tree import DecisionTreeClassifier\n",
        "DecisionTreeClassifier(\n",
        "    criterion='gini',\n",
        "    splitter='best',\n",
        "    max_depth=None,\n",
        "    min_samples_split=2,\n",
        "    min_samples_leaf=1,\n",
        "    min_weight_fraction_leaf=0.0,\n",
        "    max_features=None,\n",
        "    random_state=None,\n",
        "    max_leaf_nodes=None,\n",
        "    min_impurity_decrease=0.0,\n",
        "    class_weight=None,\n",
        "    ccp_alpha=0.0\n",
        ")\n",
        "model = DecisionTreeClassifier()\n"
      ],
      "metadata": {
        "id": "gsg3xrEjvrAg"
      },
      "execution_count": null,
      "outputs": []
    },
    {
      "cell_type": "code",
      "execution_count": null,
      "metadata": {
        "id": "WsdPFU6iuZj9"
      },
      "outputs": [],
      "source": [
        "model1 = LogisticRegression()\n",
        "model2 = KNeighborsClassifier()"
      ]
    },
    {
      "cell_type": "code",
      "execution_count": null,
      "metadata": {
        "colab": {
          "base_uri": "https://localhost:8080/",
          "height": 75
        },
        "id": "DFa09dDgU5_E",
        "outputId": "6bd73856-7f72-4ee4-a44e-d21388c26731"
      },
      "outputs": [
        {
          "output_type": "execute_result",
          "data": {
            "text/plain": [
              "KNeighborsClassifier()"
            ],
            "text/html": [
              "<style>#sk-container-id-1 {color: black;background-color: white;}#sk-container-id-1 pre{padding: 0;}#sk-container-id-1 div.sk-toggleable {background-color: white;}#sk-container-id-1 label.sk-toggleable__label {cursor: pointer;display: block;width: 100%;margin-bottom: 0;padding: 0.3em;box-sizing: border-box;text-align: center;}#sk-container-id-1 label.sk-toggleable__label-arrow:before {content: \"▸\";float: left;margin-right: 0.25em;color: #696969;}#sk-container-id-1 label.sk-toggleable__label-arrow:hover:before {color: black;}#sk-container-id-1 div.sk-estimator:hover label.sk-toggleable__label-arrow:before {color: black;}#sk-container-id-1 div.sk-toggleable__content {max-height: 0;max-width: 0;overflow: hidden;text-align: left;background-color: #f0f8ff;}#sk-container-id-1 div.sk-toggleable__content pre {margin: 0.2em;color: black;border-radius: 0.25em;background-color: #f0f8ff;}#sk-container-id-1 input.sk-toggleable__control:checked~div.sk-toggleable__content {max-height: 200px;max-width: 100%;overflow: auto;}#sk-container-id-1 input.sk-toggleable__control:checked~label.sk-toggleable__label-arrow:before {content: \"▾\";}#sk-container-id-1 div.sk-estimator input.sk-toggleable__control:checked~label.sk-toggleable__label {background-color: #d4ebff;}#sk-container-id-1 div.sk-label input.sk-toggleable__control:checked~label.sk-toggleable__label {background-color: #d4ebff;}#sk-container-id-1 input.sk-hidden--visually {border: 0;clip: rect(1px 1px 1px 1px);clip: rect(1px, 1px, 1px, 1px);height: 1px;margin: -1px;overflow: hidden;padding: 0;position: absolute;width: 1px;}#sk-container-id-1 div.sk-estimator {font-family: monospace;background-color: #f0f8ff;border: 1px dotted black;border-radius: 0.25em;box-sizing: border-box;margin-bottom: 0.5em;}#sk-container-id-1 div.sk-estimator:hover {background-color: #d4ebff;}#sk-container-id-1 div.sk-parallel-item::after {content: \"\";width: 100%;border-bottom: 1px solid gray;flex-grow: 1;}#sk-container-id-1 div.sk-label:hover label.sk-toggleable__label {background-color: #d4ebff;}#sk-container-id-1 div.sk-serial::before {content: \"\";position: absolute;border-left: 1px solid gray;box-sizing: border-box;top: 0;bottom: 0;left: 50%;z-index: 0;}#sk-container-id-1 div.sk-serial {display: flex;flex-direction: column;align-items: center;background-color: white;padding-right: 0.2em;padding-left: 0.2em;position: relative;}#sk-container-id-1 div.sk-item {position: relative;z-index: 1;}#sk-container-id-1 div.sk-parallel {display: flex;align-items: stretch;justify-content: center;background-color: white;position: relative;}#sk-container-id-1 div.sk-item::before, #sk-container-id-1 div.sk-parallel-item::before {content: \"\";position: absolute;border-left: 1px solid gray;box-sizing: border-box;top: 0;bottom: 0;left: 50%;z-index: -1;}#sk-container-id-1 div.sk-parallel-item {display: flex;flex-direction: column;z-index: 1;position: relative;background-color: white;}#sk-container-id-1 div.sk-parallel-item:first-child::after {align-self: flex-end;width: 50%;}#sk-container-id-1 div.sk-parallel-item:last-child::after {align-self: flex-start;width: 50%;}#sk-container-id-1 div.sk-parallel-item:only-child::after {width: 0;}#sk-container-id-1 div.sk-dashed-wrapped {border: 1px dashed gray;margin: 0 0.4em 0.5em 0.4em;box-sizing: border-box;padding-bottom: 0.4em;background-color: white;}#sk-container-id-1 div.sk-label label {font-family: monospace;font-weight: bold;display: inline-block;line-height: 1.2em;}#sk-container-id-1 div.sk-label-container {text-align: center;}#sk-container-id-1 div.sk-container {/* jupyter's `normalize.less` sets `[hidden] { display: none; }` but bootstrap.min.css set `[hidden] { display: none !important; }` so we also need the `!important` here to be able to override the default hidden behavior on the sphinx rendered scikit-learn.org. See: https://github.com/scikit-learn/scikit-learn/issues/21755 */display: inline-block !important;position: relative;}#sk-container-id-1 div.sk-text-repr-fallback {display: none;}</style><div id=\"sk-container-id-1\" class=\"sk-top-container\"><div class=\"sk-text-repr-fallback\"><pre>KNeighborsClassifier()</pre><b>In a Jupyter environment, please rerun this cell to show the HTML representation or trust the notebook. <br />On GitHub, the HTML representation is unable to render, please try loading this page with nbviewer.org.</b></div><div class=\"sk-container\" hidden><div class=\"sk-item\"><div class=\"sk-estimator sk-toggleable\"><input class=\"sk-toggleable__control sk-hidden--visually\" id=\"sk-estimator-id-1\" type=\"checkbox\" checked><label for=\"sk-estimator-id-1\" class=\"sk-toggleable__label sk-toggleable__label-arrow\">KNeighborsClassifier</label><div class=\"sk-toggleable__content\"><pre>KNeighborsClassifier()</pre></div></div></div></div></div>"
            ]
          },
          "metadata": {},
          "execution_count": 63
        }
      ],
      "source": [
        "model.fit(X_train,y_train)\n",
        "model1.fit(X_train,y_train)\n",
        "model2.fit(X_train,y_train)\n"
      ]
    },
    {
      "cell_type": "code",
      "execution_count": null,
      "metadata": {
        "colab": {
          "base_uri": "https://localhost:8080/"
        },
        "id": "SMwq5AEL1dCw",
        "outputId": "1998957f-4fb2-4965-cb44-bedb1e01a08d"
      },
      "outputs": [
        {
          "output_type": "stream",
          "name": "stdout",
          "text": [
            "(2597, 28) (2597,)\n"
          ]
        }
      ],
      "source": [
        "print(X_train.shape,y_train.shape)"
      ]
    },
    {
      "cell_type": "markdown",
      "metadata": {
        "id": "rd2dWbYe2oLa"
      },
      "source": [
        "# Model Prediction"
      ]
    },
    {
      "cell_type": "code",
      "execution_count": null,
      "metadata": {
        "id": "KgRfIAJP9RNZ"
      },
      "outputs": [],
      "source": [
        "pred = model.predict(X_test)\n",
        "pred1 = model1.predict(X_test)\n",
        "pred2 = model2.predict(X_test)\n"
      ]
    },
    {
      "cell_type": "markdown",
      "metadata": {
        "id": "GInO1P5u9rbx"
      },
      "source": [
        "## Model Evaluation\n"
      ]
    },
    {
      "cell_type": "code",
      "execution_count": null,
      "metadata": {
        "colab": {
          "base_uri": "https://localhost:8080/"
        },
        "id": "iA2sc8E4vDlz",
        "outputId": "0c8eaa8c-8949-4650-c7d9-8d8d397aee68"
      },
      "outputs": [
        {
          "output_type": "stream",
          "name": "stdout",
          "text": [
            "Accuracy score for model 0.999133949191686\n",
            "Accuracy score for model 1 0.9979792147806005\n",
            "Accuracy score for model 2 0.9948999230177059\n"
          ]
        }
      ],
      "source": [
        "print('Accuracy score for model',accuracy_score(pred,y_test))\n",
        "print('Accuracy score for model 1',accuracy_score(pred1,y_test))\n",
        "print('Accuracy score for model 2',accuracy_score(pred2,y_test))"
      ]
    },
    {
      "cell_type": "code",
      "source": [
        "from sklearn.ensemble import RandomForestClassifier\n",
        "from sklearn.model_selection import cross_val_score\n",
        "\n",
        "# Define the model\n",
        "random_forest_model = RandomForestClassifier()\n",
        "# Fit the random search object to the data\n",
        "random_forest_model.fit(X_train, y_train)\n",
        "# Make predictions\n",
        "y_pred = random_forest_model.predict(X_test)\n",
        "\n",
        "# Get the performance\n",
        "accuracy = accuracy_score(y_test, y_pred)\n",
        "\n",
        "print(\"Accuracy:\", accuracy)\n",
        "print('Precision:',precision_score(y_test, y_pred,average='weighted'))\n",
        "print('F1_score:',f1_score(y_test, y_pred,average='weighted'))\n",
        "print('Recall:',recall_score(y_test, y_pred,average='weighted'))\n",
        "\n"
      ],
      "metadata": {
        "colab": {
          "base_uri": "https://localhost:8080/"
        },
        "id": "4gRjun9P3m26",
        "outputId": "49d5bc74-5c5a-44f9-cc9f-b01d3c1c884a"
      },
      "execution_count": null,
      "outputs": [
        {
          "output_type": "stream",
          "name": "stdout",
          "text": [
            "Accuracy: 0.9997113163972287\n",
            "Precision: 0.9997115197910306\n",
            "F1_score: 0.9997112943022832\n",
            "Recall: 0.9997113163972287\n"
          ]
        }
      ]
    },
    {
      "cell_type": "code",
      "source": [
        "from sklearn.neighbors import KNeighborsClassifier\n",
        "from sklearn.tree import DecisionTreeClassifier\n",
        "from sklearn.linear_model import LogisticRegression\n",
        "X_train, X_val, y_train, y_val = train_test_split(\n",
        "                                            \tX_train, y_train,\n",
        "                                            \ttest_size=0.33,\n",
        "                                            \trandom_state=2023)\n",
        "# Decision Tree Model\n",
        "dt_model = DecisionTreeClassifier()\n",
        "dt_model.fit(X_train, y_train)\n",
        "dt_model_pred_val = dt_model.predict(X_val)\n",
        "dt_model_pred_test= dt_model.predict(X_test)\n",
        "\n",
        "dt_model_pred_val = pd.DataFrame(dt_model_pred_val)\n",
        "dt_model_pred_test = pd.DataFrame(dt_model_pred_test)\n",
        "\n",
        "# KNN Model\n",
        "knn_model = KNeighborsClassifier()\n",
        "knn_model.fit(X_train,y_train)\n",
        "knn_model_pred_val = knn_model.predict(X_val)\n",
        "knn_model_pred_test = knn_model.predict(X_test)\n",
        "\n",
        "knn_model_pred_val = pd.DataFrame(knn_model_pred_val)\n",
        "knn_model_pred_test = pd.DataFrame(knn_model_pred_test)\n",
        "x_val = pd.DataFrame(X_val)\n",
        "x_test = pd.DataFrame(X_test)\n",
        "\n",
        "df_val_lr = pd.concat([x_val, knn_model_pred_val,\n",
        "                    \tdt_model_pred_val], axis=1)\n",
        "\n",
        "df_test_lr = pd.concat([x_test, dt_model_pred_test,\n",
        "                     \tknn_model_pred_test],axis=1)\n",
        "\n",
        "# Logistic Regression Model\n",
        "lr_model = LogisticRegression()\n",
        "\n",
        "lr_model.fit(df_val_lr,y_val)\n",
        "lr_model.score(df_test_lr,y_test)"
      ],
      "metadata": {
        "colab": {
          "base_uri": "https://localhost:8080/"
        },
        "id": "ELtSHkN73m0K",
        "outputId": "f016875c-3510-4770-f917-9ca59134167f"
      },
      "execution_count": null,
      "outputs": [
        {
          "output_type": "execute_result",
          "data": {
            "text/plain": [
              "0.9970169361046959"
            ]
          },
          "metadata": {},
          "execution_count": 68
        }
      ]
    },
    {
      "cell_type": "code",
      "source": [
        "# pip install vecstack"
      ],
      "metadata": {
        "id": "y8pTp60nK9td"
      },
      "execution_count": null,
      "outputs": []
    },
    {
      "cell_type": "code",
      "source": [
        "from sklearn.ensemble import RandomForestClassifier\n",
        "import xgboost as xgb\n",
        "from vecstack import stacking\n",
        "\n",
        "# initializing all the base model objects with default parameters\n",
        "model_1 = LogisticRegression()\n",
        "model_2 = xgb.XGBClassifier()\n",
        "model_3 = RandomForestClassifier()\n",
        "\n",
        "# putting all base model objects in one list\n",
        "all_models = [model_1, model_2, model_3]\n",
        "\n",
        "# computing the stack features\n",
        "s_train, s_test = stacking(all_models, X_train, y_train,\n",
        "\t\t\t\t\t\tX_test, n_folds=4,shuffle=True)\n",
        "\n",
        "# initializing the second-level model\n",
        "final_model = model_1\n",
        "\n",
        "# fitting the second level model with stack features\n",
        "final_model = final_model.fit(s_train, y_train)\n",
        "\n",
        "# predicting the final output using stacking\n",
        "pred_final = final_model.predict(s_test)\n",
        "# printing the mean squared error between real value and predicted value\n",
        "print(accuracy_score(pred_final, y_test))\n",
        "print(recall_score(pred_final, y_test,average='weighted'))\n",
        "\n"
      ],
      "metadata": {
        "colab": {
          "base_uri": "https://localhost:8080/"
        },
        "id": "5NFK2NaBJHGN",
        "outputId": "709d70e6-a511-4403-c878-3cd39a79c103"
      },
      "execution_count": null,
      "outputs": [
        {
          "output_type": "stream",
          "name": "stdout",
          "text": [
            "0.9974018475750578\n",
            "0.9974018475750578\n"
          ]
        }
      ]
    },
    {
      "cell_type": "code",
      "source": [
        "from sklearn.metrics import confusion_matrix,ConfusionMatrixDisplay\n",
        "cm=confusion_matrix(y_test, pred_final)\n",
        "disp = ConfusionMatrixDisplay(confusion_matrix=cm,display_labels=final_model.classes_)\n",
        "disp.plot()\n",
        "plt.show()"
      ],
      "metadata": {
        "id": "5ScQBv2SJG5O",
        "colab": {
          "base_uri": "https://localhost:8080/",
          "height": 449
        },
        "outputId": "e878af65-3caa-49c8-f458-ed7fe927e53d"
      },
      "execution_count": null,
      "outputs": [
        {
          "output_type": "display_data",
          "data": {
            "text/plain": [
              "<Figure size 640x480 with 2 Axes>"
            ],
            "image/png": "[encoded data removed]"
          },
          "metadata": {}
        }
      ]
    },
    {
      "cell_type": "code",
      "source": [
        "from sklearn.metrics import precision_recall_fscore_support\n",
        "precision_recall_fscore_support(y_test, pred_final, average=None,labels=final_model.classes_)\n"
      ],
      "metadata": {
        "colab": {
          "base_uri": "https://localhost:8080/"
        },
        "id": "BlAZyO_lfxJQ",
        "outputId": "0212014a-7bb8-4305-a781-6a1f554e901a"
      },
      "execution_count": null,
      "outputs": [
        {
          "output_type": "execute_result",
          "data": {
            "text/plain": [
              "(array([1.        , 0.99835758, 0.99333333, 0.99626168, 1.        ]),\n",
              " array([0.99732143, 1.        , 0.99554566, 1.        , 0.99629505]),\n",
              " array([0.99865892, 0.99917811, 0.99443826, 0.99812734, 0.99814409]),\n",
              " array([1120, 4255,  449, 1599, 2969]))"
            ]
          },
          "metadata": {},
          "execution_count": 113
        }
      ]
    },
    {
      "cell_type": "markdown",
      "metadata": {
        "id": "Myh_i9lDxSh3"
      },
      "source": [
        "## Test Data Prediction"
      ]
    },
    {
      "cell_type": "code",
      "execution_count": null,
      "metadata": {
        "id": "RvmNRfsHxRsR"
      },
      "outputs": [],
      "source": [
        "test_pred = model.predict(scaled_test_data)\n",
        "test_results=pd.DataFrame(test_data['Id'].values)\n",
        "test_results.columns=['Id']\n",
        "test_results[\"type_of_attack\"] = (labelencoder.inverse_transform(test_pred))\n",
        "test_results.to_csv('NAP_submission.csv', index = False)\n",
        "# files.download('NAP_submission.csv')"
      ]
    },
    {
      "cell_type": "code",
      "source": [
        "test_results"
      ],
      "metadata": {
        "id": "AEfW4zkVrmXP",
        "colab": {
          "base_uri": "https://localhost:8080/",
          "height": 424
        },
        "outputId": "a9ec711a-73a0-41ff-8ace-9861ac92f485"
      },
      "execution_count": null,
      "outputs": [
        {
          "output_type": "execute_result",
          "data": {
            "text/plain": [
              "        Id type_of_attack\n",
              "0        1            REJ\n",
              "1        2            REJ\n",
              "2        3            REJ\n",
              "3        4            REJ\n",
              "4        5            REJ\n",
              "...    ...            ...\n",
              "5562  5563           RSTO\n",
              "5563  5564            REJ\n",
              "5564  5565           RSTO\n",
              "5565  5566           RSTO\n",
              "5566  5567            REJ\n",
              "\n",
              "[5567 rows x 2 columns]"
            ],
            "text/html": [
              "\n",
              "\n",
              "  <div id=\"df-6f06527b-3972-4886-8e89-69e6bc0e687b\">\n",
              "    <div class=\"colab-df-container\">\n",
              "      <div>\n",
              "<style scoped>\n",
              "    .dataframe tbody tr th:only-of-type {\n",
              "        vertical-align: middle;\n",
              "    }\n",
              "\n",
              "    .dataframe tbody tr th {\n",
              "        vertical-align: top;\n",
              "    }\n",
              "\n",
              "    .dataframe thead th {\n",
              "        text-align: right;\n",
              "    }\n",
              "</style>\n",
              "<table border=\"1\" class=\"dataframe\">\n",
              "  <thead>\n",
              "    <tr style=\"text-align: right;\">\n",
              "      <th></th>\n",
              "      <th>Id</th>\n",
              "      <th>type_of_attack</th>\n",
              "    </tr>\n",
              "  </thead>\n",
              "  <tbody>\n",
              "    <tr>\n",
              "      <th>0</th>\n",
              "      <td>1</td>\n",
              "      <td>REJ</td>\n",
              "    </tr>\n",
              "    <tr>\n",
              "      <th>1</th>\n",
              "      <td>2</td>\n",
              "      <td>REJ</td>\n",
              "    </tr>\n",
              "    <tr>\n",
              "      <th>2</th>\n",
              "      <td>3</td>\n",
              "      <td>REJ</td>\n",
              "    </tr>\n",
              "    <tr>\n",
              "      <th>3</th>\n",
              "      <td>4</td>\n",
              "      <td>REJ</td>\n",
              "    </tr>\n",
              "    <tr>\n",
              "      <th>4</th>\n",
              "      <td>5</td>\n",
              "      <td>REJ</td>\n",
              "    </tr>\n",
              "    <tr>\n",
              "      <th>...</th>\n",
              "      <td>...</td>\n",
              "      <td>...</td>\n",
              "    </tr>\n",
              "    <tr>\n",
              "      <th>5562</th>\n",
              "      <td>5563</td>\n",
              "      <td>RSTO</td>\n",
              "    </tr>\n",
              "    <tr>\n",
              "      <th>5563</th>\n",
              "      <td>5564</td>\n",
              "      <td>REJ</td>\n",
              "    </tr>\n",
              "    <tr>\n",
              "      <th>5564</th>\n",
              "      <td>5565</td>\n",
              "      <td>RSTO</td>\n",
              "    </tr>\n",
              "    <tr>\n",
              "      <th>5565</th>\n",
              "      <td>5566</td>\n",
              "      <td>RSTO</td>\n",
              "    </tr>\n",
              "    <tr>\n",
              "      <th>5566</th>\n",
              "      <td>5567</td>\n",
              "      <td>REJ</td>\n",
              "    </tr>\n",
              "  </tbody>\n",
              "</table>\n",
              "<p>5567 rows × 2 columns</p>\n",
              "</div>\n",
              "      <button class=\"colab-df-convert\" onclick=\"convertToInteractive('df-6f06527b-3972-4886-8e89-69e6bc0e687b')\"\n",
              "              title=\"Convert this dataframe to an interactive table.\"\n",
              "              style=\"display:none;\">\n",
              "\n",
              "  <svg xmlns=\"http://www.w3.org/2000/svg\" height=\"24px\"viewBox=\"0 0 24 24\"\n",
              "       width=\"24px\">\n",
              "    <path d=\"M0 0h24v24H0V0z\" fill=\"none\"/>\n",
              "    <path d=\"M18.56 5.44l.94 2.06.94-2.06 2.06-.94-2.06-.94-.94-2.06-.94 2.06-2.06.94zm-11 1L8.5 8.5l.94-2.06 2.06-.94-2.06-.94L8.5 2.5l-.94 2.06-2.06.94zm10 10l.94 2.06.94-2.06 2.06-.94-2.06-.94-.94-2.06-.94 2.06-2.06.94z\"/><path d=\"M17.41 7.96l-1.37-1.37c-.4-.4-.92-.59-1.43-.59-.52 0-1.04.2-1.43.59L10.3 9.45l-7.72 7.72c-.78.78-.78 2.05 0 2.83L4 21.41c.39.39.9.59 1.41.59.51 0 1.02-.2 1.41-.59l7.78-7.78 2.81-2.81c.8-.78.8-2.07 0-2.86zM5.41 20L4 18.59l7.72-7.72 1.47 1.35L5.41 20z\"/>\n",
              "  </svg>\n",
              "      </button>\n",
              "\n",
              "\n",
              "\n",
              "    <div id=\"df-62b9183c-240d-4ef3-a635-ca21508ea7f9\">\n",
              "      <button class=\"colab-df-quickchart\" onclick=\"quickchart('df-62b9183c-240d-4ef3-a635-ca21508ea7f9')\"\n",
              "              title=\"Suggest charts.\"\n",
              "              style=\"display:none;\">\n",
              "\n",
              "<svg xmlns=\"http://www.w3.org/2000/svg\" height=\"24px\"viewBox=\"0 0 24 24\"\n",
              "     width=\"24px\">\n",
              "    <g>\n",
              "        <path d=\"M19 3H5c-1.1 0-2 .9-2 2v14c0 1.1.9 2 2 2h14c1.1 0 2-.9 2-2V5c0-1.1-.9-2-2-2zM9 17H7v-7h2v7zm4 0h-2V7h2v10zm4 0h-2v-4h2v4z\"/>\n",
              "    </g>\n",
              "</svg>\n",
              "      </button>\n",
              "    </div>\n",
              "\n",
              "<style>\n",
              "  .colab-df-quickchart {\n",
              "    background-color: #E8F0FE;\n",
              "    border: none;\n",
              "    border-radius: 50%;\n",
              "    cursor: pointer;\n",
              "    display: none;\n",
              "    fill: #1967D2;\n",
              "    height: 32px;\n",
              "    padding: 0 0 0 0;\n",
              "    width: 32px;\n",
              "  }\n",
              "\n",
              "  .colab-df-quickchart:hover {\n",
              "    background-color: #E2EBFA;\n",
              "    box-shadow: 0px 1px 2px rgba(60, 64, 67, 0.3), 0px 1px 3px 1px rgba(60, 64, 67, 0.15);\n",
              "    fill: #174EA6;\n",
              "  }\n",
              "\n",
              "  [theme=dark] .colab-df-quickchart {\n",
              "    background-color: #3B4455;\n",
              "    fill: #D2E3FC;\n",
              "  }\n",
              "\n",
              "  [theme=dark] .colab-df-quickchart:hover {\n",
              "    background-color: #434B5C;\n",
              "    box-shadow: 0px 1px 3px 1px rgba(0, 0, 0, 0.15);\n",
              "    filter: drop-shadow(0px 1px 2px rgba(0, 0, 0, 0.3));\n",
              "    fill: #FFFFFF;\n",
              "  }\n",
              "</style>\n",
              "\n",
              "    <script>\n",
              "      async function quickchart(key) {\n",
              "        const containerElement = document.querySelector('#' + key);\n",
              "        const charts = await google.colab.kernel.invokeFunction(\n",
              "            'suggestCharts', [key], {});\n",
              "      }\n",
              "    </script>\n",
              "\n",
              "      <script>\n",
              "\n",
              "function displayQuickchartButton(domScope) {\n",
              "  let quickchartButtonEl =\n",
              "    domScope.querySelector('#df-62b9183c-240d-4ef3-a635-ca21508ea7f9 button.colab-df-quickchart');\n",
              "  quickchartButtonEl.style.display =\n",
              "    google.colab.kernel.accessAllowed ? 'block' : 'none';\n",
              "}\n",
              "\n",
              "        displayQuickchartButton(document);\n",
              "      </script>\n",
              "      <style>\n",
              "    .colab-df-container {\n",
              "      display:flex;\n",
              "      flex-wrap:wrap;\n",
              "      gap: 12px;\n",
              "    }\n",
              "\n",
              "    .colab-df-convert {\n",
              "      background-color: #E8F0FE;\n",
              "      border: none;\n",
              "      border-radius: 50%;\n",
              "      cursor: pointer;\n",
              "      display: none;\n",
              "      fill: #1967D2;\n",
              "      height: 32px;\n",
              "      padding: 0 0 0 0;\n",
              "      width: 32px;\n",
              "    }\n",
              "\n",
              "    .colab-df-convert:hover {\n",
              "      background-color: #E2EBFA;\n",
              "      box-shadow: 0px 1px 2px rgba(60, 64, 67, 0.3), 0px 1px 3px 1px rgba(60, 64, 67, 0.15);\n",
              "      fill: #174EA6;\n",
              "    }\n",
              "\n",
              "    [theme=dark] .colab-df-convert {\n",
              "      background-color: #3B4455;\n",
              "      fill: #D2E3FC;\n",
              "    }\n",
              "\n",
              "    [theme=dark] .colab-df-convert:hover {\n",
              "      background-color: #434B5C;\n",
              "      box-shadow: 0px 1px 3px 1px rgba(0, 0, 0, 0.15);\n",
              "      filter: drop-shadow(0px 1px 2px rgba(0, 0, 0, 0.3));\n",
              "      fill: #FFFFFF;\n",
              "    }\n",
              "  </style>\n",
              "\n",
              "      <script>\n",
              "        const buttonEl =\n",
              "          document.querySelector('#df-6f06527b-3972-4886-8e89-69e6bc0e687b button.colab-df-convert');\n",
              "        buttonEl.style.display =\n",
              "          google.colab.kernel.accessAllowed ? 'block' : 'none';\n",
              "\n",
              "        async function convertToInteractive(key) {\n",
              "          const element = document.querySelector('#df-6f06527b-3972-4886-8e89-69e6bc0e687b');\n",
              "          const dataTable =\n",
              "            await google.colab.kernel.invokeFunction('convertToInteractive',\n",
              "                                                     [key], {});\n",
              "          if (!dataTable) return;\n",
              "\n",
              "          const docLinkHtml = 'Like what you see? Visit the ' +\n",
              "            '<a target=\"_blank\" href=https://colab.research.google.com/notebooks/data_table.ipynb>data table notebook</a>'\n",
              "            + ' to learn more about interactive tables.';\n",
              "          element.innerHTML = '';\n",
              "          dataTable['output_type'] = 'display_data';\n",
              "          await google.colab.output.renderOutput(dataTable, element);\n",
              "          const docLink = document.createElement('div');\n",
              "          docLink.innerHTML = docLinkHtml;\n",
              "          element.appendChild(docLink);\n",
              "        }\n",
              "      </script>\n",
              "    </div>\n",
              "  </div>\n"
            ]
          },
          "metadata": {},
          "execution_count": 110
        }
      ]
    },
    {
      "cell_type": "code",
      "source": [],
      "metadata": {
        "id": "v5P96G3VuyB2"
      },
      "execution_count": null,
      "outputs": []
    }
  ]
}